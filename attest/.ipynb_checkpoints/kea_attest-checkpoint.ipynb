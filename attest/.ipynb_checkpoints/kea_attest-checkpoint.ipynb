{
 "cells": [
  {
   "cell_type": "code",
   "execution_count": 1,
   "id": "a5c24c86-6569-40e4-80fb-0f1a4ce4d395",
   "metadata": {},
   "outputs": [
    {
     "name": "stdout",
     "output_type": "stream",
     "text": [
      "Requirement already satisfied: pandas in d:\\geekbrains\\datacollection\\attest\\.venv\\lib\\site-packages (2.2.3)\n",
      "Requirement already satisfied: numpy>=1.23.2 in d:\\geekbrains\\datacollection\\attest\\.venv\\lib\\site-packages (from pandas) (2.1.2)\n",
      "Requirement already satisfied: python-dateutil>=2.8.2 in d:\\geekbrains\\datacollection\\attest\\.venv\\lib\\site-packages (from pandas) (2.9.0.post0)\n",
      "Requirement already satisfied: pytz>=2020.1 in d:\\geekbrains\\datacollection\\attest\\.venv\\lib\\site-packages (from pandas) (2024.2)\n",
      "Requirement already satisfied: tzdata>=2022.7 in d:\\geekbrains\\datacollection\\attest\\.venv\\lib\\site-packages (from pandas) (2024.2)\n",
      "Requirement already satisfied: six>=1.5 in d:\\geekbrains\\datacollection\\attest\\.venv\\lib\\site-packages (from python-dateutil>=2.8.2->pandas) (1.16.0)\n"
     ]
    },
    {
     "name": "stderr",
     "output_type": "stream",
     "text": [
      "\n",
      "[notice] A new release of pip available: 22.3.1 -> 24.2\n",
      "[notice] To update, run: python.exe -m pip install --upgrade pip\n",
      "\n",
      "[notice] A new release of pip available: 22.3.1 -> 24.2\n",
      "[notice] To update, run: python.exe -m pip install --upgrade pip\n"
     ]
    },
    {
     "name": "stdout",
     "output_type": "stream",
     "text": [
      "Collecting matplotlib\n",
      "  Using cached matplotlib-3.9.2-cp311-cp311-win_amd64.whl (7.8 MB)\n",
      "Collecting contourpy>=1.0.1\n",
      "  Using cached contourpy-1.3.0-cp311-cp311-win_amd64.whl (217 kB)\n",
      "Collecting cycler>=0.10\n",
      "  Using cached cycler-0.12.1-py3-none-any.whl (8.3 kB)\n",
      "Collecting fonttools>=4.22.0\n",
      "  Using cached fonttools-4.54.1-cp311-cp311-win_amd64.whl (2.2 MB)\n",
      "Collecting kiwisolver>=1.3.1\n",
      "  Using cached kiwisolver-1.4.7-cp311-cp311-win_amd64.whl (56 kB)\n",
      "Requirement already satisfied: numpy>=1.23 in d:\\geekbrains\\datacollection\\attest\\.venv\\lib\\site-packages (from matplotlib) (2.1.2)\n",
      "Requirement already satisfied: packaging>=20.0 in d:\\geekbrains\\datacollection\\attest\\.venv\\lib\\site-packages (from matplotlib) (24.1)\n",
      "Collecting pillow>=8\n",
      "  Using cached pillow-10.4.0-cp311-cp311-win_amd64.whl (2.6 MB)\n",
      "Collecting pyparsing>=2.3.1\n",
      "  Downloading pyparsing-3.2.0-py3-none-any.whl (106 kB)\n",
      "     ------------------------------------ 106.9/106.9 kB 363.5 kB/s eta 0:00:00\n",
      "Requirement already satisfied: python-dateutil>=2.7 in d:\\geekbrains\\datacollection\\attest\\.venv\\lib\\site-packages (from matplotlib) (2.9.0.post0)\n",
      "Requirement already satisfied: six>=1.5 in d:\\geekbrains\\datacollection\\attest\\.venv\\lib\\site-packages (from python-dateutil>=2.7->matplotlib) (1.16.0)\n",
      "Installing collected packages: pyparsing, pillow, kiwisolver, fonttools, cycler, contourpy, matplotlib\n",
      "Successfully installed contourpy-1.3.0 cycler-0.12.1 fonttools-4.54.1 kiwisolver-1.4.7 matplotlib-3.9.2 pillow-10.4.0 pyparsing-3.2.0\n",
      "Collecting scikit-learn\n",
      "  Using cached scikit_learn-1.5.2-cp311-cp311-win_amd64.whl (11.0 MB)\n",
      "Requirement already satisfied: numpy>=1.19.5 in d:\\geekbrains\\datacollection\\attest\\.venv\\lib\\site-packages (from scikit-learn) (2.1.2)\n",
      "Collecting scipy>=1.6.0\n",
      "  Using cached scipy-1.14.1-cp311-cp311-win_amd64.whl (44.8 MB)\n",
      "Collecting joblib>=1.2.0\n",
      "  Using cached joblib-1.4.2-py3-none-any.whl (301 kB)\n",
      "Collecting threadpoolctl>=3.1.0\n",
      "  Using cached threadpoolctl-3.5.0-py3-none-any.whl (18 kB)\n",
      "Installing collected packages: threadpoolctl, scipy, joblib, scikit-learn\n",
      "Successfully installed joblib-1.4.2 scikit-learn-1.5.2 scipy-1.14.1 threadpoolctl-3.5.0\n"
     ]
    },
    {
     "name": "stderr",
     "output_type": "stream",
     "text": [
      "\n",
      "[notice] A new release of pip available: 22.3.1 -> 24.2\n",
      "[notice] To update, run: python.exe -m pip install --upgrade pip\n"
     ]
    }
   ],
   "source": [
    "! pip install pandas\n",
    "! pip install matplotlib\n",
    "import pandas as pd\n",
    "import numpy as np\n",
    "import pathlib\n",
    "import matplotlib.pyplot as plt\n",
    "! pip install scikit-learn\n",
    "\n",
    "\n",
    "from sklearn.model_selection import train_test_split\n",
    "from sklearn.metrics import f1_score\n",
    "from sklearn.utils import shuffle\n",
    "from sklearn.linear_model import LogisticRegression\n",
    "from sklearn.preprocessing import LabelEncoder\n",
    "from sklearn.metrics import accuracy_score, classification_report, confusion_matrix"
   ]
  },
  {
   "cell_type": "markdown",
   "id": "eb4e54b1-b8fb-4575-9ec0-89d615a9caba",
   "metadata": {},
   "source": [
    "**Задание 1.\n",
    "Выберите датасет, который имеет отношение к вашей области интересов или исследований. Датасет должен содержать неструктурированные данные, требующие разметки для решения конкретной задачи, например, анализа настроений или распознавания именованных сущностей.**\n",
    "\n",
    "***В качестве примера я выбрал исследование, в котором анализируется возможность предсказать успешность IT проекта.\n",
    "Сслыка: \n",
    "<https://www.kaggle.com/code/youhanlee/would-it-be-possible-to-predict-success-of-app/>***"
   ]
  },
  {
   "cell_type": "code",
   "execution_count": 2,
   "id": "28a358a1-0012-44dc-93ac-0d523185a0ab",
   "metadata": {},
   "outputs": [
    {
     "name": "stdout",
     "output_type": "stream",
     "text": [
      "AppleStore.csv\n"
     ]
    },
    {
     "data": {
      "text/html": [
       "<div>\n",
       "<style scoped>\n",
       "    .dataframe tbody tr th:only-of-type {\n",
       "        vertical-align: middle;\n",
       "    }\n",
       "\n",
       "    .dataframe tbody tr th {\n",
       "        vertical-align: top;\n",
       "    }\n",
       "\n",
       "    .dataframe thead th {\n",
       "        text-align: right;\n",
       "    }\n",
       "</style>\n",
       "<table border=\"1\" class=\"dataframe\">\n",
       "  <thead>\n",
       "    <tr style=\"text-align: right;\">\n",
       "      <th></th>\n",
       "      <th>Unnamed: 0</th>\n",
       "      <th>id</th>\n",
       "      <th>track_name</th>\n",
       "      <th>size_bytes</th>\n",
       "      <th>currency</th>\n",
       "      <th>price</th>\n",
       "      <th>rating_count_tot</th>\n",
       "      <th>rating_count_ver</th>\n",
       "      <th>user_rating</th>\n",
       "      <th>user_rating_ver</th>\n",
       "      <th>ver</th>\n",
       "      <th>cont_rating</th>\n",
       "      <th>prime_genre</th>\n",
       "      <th>sup_devices.num</th>\n",
       "      <th>ipadSc_urls.num</th>\n",
       "      <th>lang.num</th>\n",
       "      <th>vpp_lic</th>\n",
       "    </tr>\n",
       "  </thead>\n",
       "  <tbody>\n",
       "    <tr>\n",
       "      <th>7192</th>\n",
       "      <td>11081</td>\n",
       "      <td>1187617475</td>\n",
       "      <td>Kubik</td>\n",
       "      <td>126644224</td>\n",
       "      <td>USD</td>\n",
       "      <td>0.00</td>\n",
       "      <td>142</td>\n",
       "      <td>75</td>\n",
       "      <td>4.5</td>\n",
       "      <td>4.5</td>\n",
       "      <td>1.3</td>\n",
       "      <td>4+</td>\n",
       "      <td>Games</td>\n",
       "      <td>38</td>\n",
       "      <td>5</td>\n",
       "      <td>1</td>\n",
       "      <td>1</td>\n",
       "    </tr>\n",
       "    <tr>\n",
       "      <th>7193</th>\n",
       "      <td>11082</td>\n",
       "      <td>1187682390</td>\n",
       "      <td>VR Roller-Coaster</td>\n",
       "      <td>120760320</td>\n",
       "      <td>USD</td>\n",
       "      <td>0.00</td>\n",
       "      <td>30</td>\n",
       "      <td>30</td>\n",
       "      <td>4.5</td>\n",
       "      <td>4.5</td>\n",
       "      <td>0.9</td>\n",
       "      <td>4+</td>\n",
       "      <td>Games</td>\n",
       "      <td>38</td>\n",
       "      <td>0</td>\n",
       "      <td>1</td>\n",
       "      <td>1</td>\n",
       "    </tr>\n",
       "    <tr>\n",
       "      <th>7194</th>\n",
       "      <td>11087</td>\n",
       "      <td>1187779532</td>\n",
       "      <td>Bret Michaels Emojis + Lyric Keyboard</td>\n",
       "      <td>111322112</td>\n",
       "      <td>USD</td>\n",
       "      <td>1.99</td>\n",
       "      <td>15</td>\n",
       "      <td>0</td>\n",
       "      <td>4.5</td>\n",
       "      <td>0.0</td>\n",
       "      <td>1.0.2</td>\n",
       "      <td>9+</td>\n",
       "      <td>Utilities</td>\n",
       "      <td>37</td>\n",
       "      <td>1</td>\n",
       "      <td>1</td>\n",
       "      <td>1</td>\n",
       "    </tr>\n",
       "    <tr>\n",
       "      <th>7195</th>\n",
       "      <td>11089</td>\n",
       "      <td>1187838770</td>\n",
       "      <td>VR Roller Coaster World - Virtual Reality</td>\n",
       "      <td>97235968</td>\n",
       "      <td>USD</td>\n",
       "      <td>0.00</td>\n",
       "      <td>85</td>\n",
       "      <td>32</td>\n",
       "      <td>4.5</td>\n",
       "      <td>4.5</td>\n",
       "      <td>1.0.15</td>\n",
       "      <td>12+</td>\n",
       "      <td>Games</td>\n",
       "      <td>38</td>\n",
       "      <td>0</td>\n",
       "      <td>2</td>\n",
       "      <td>1</td>\n",
       "    </tr>\n",
       "    <tr>\n",
       "      <th>7196</th>\n",
       "      <td>11097</td>\n",
       "      <td>1188375727</td>\n",
       "      <td>Escape the Sweet Shop Series</td>\n",
       "      <td>90898432</td>\n",
       "      <td>USD</td>\n",
       "      <td>0.00</td>\n",
       "      <td>3</td>\n",
       "      <td>3</td>\n",
       "      <td>5.0</td>\n",
       "      <td>5.0</td>\n",
       "      <td>1.0</td>\n",
       "      <td>4+</td>\n",
       "      <td>Games</td>\n",
       "      <td>40</td>\n",
       "      <td>0</td>\n",
       "      <td>2</td>\n",
       "      <td>1</td>\n",
       "    </tr>\n",
       "  </tbody>\n",
       "</table>\n",
       "</div>"
      ],
      "text/plain": [
       "      Unnamed: 0          id                                 track_name  \\\n",
       "7192       11081  1187617475                                      Kubik   \n",
       "7193       11082  1187682390                          VR Roller-Coaster   \n",
       "7194       11087  1187779532      Bret Michaels Emojis + Lyric Keyboard   \n",
       "7195       11089  1187838770  VR Roller Coaster World - Virtual Reality   \n",
       "7196       11097  1188375727               Escape the Sweet Shop Series   \n",
       "\n",
       "      size_bytes currency  price  rating_count_tot  rating_count_ver  \\\n",
       "7192   126644224      USD   0.00               142                75   \n",
       "7193   120760320      USD   0.00                30                30   \n",
       "7194   111322112      USD   1.99                15                 0   \n",
       "7195    97235968      USD   0.00                85                32   \n",
       "7196    90898432      USD   0.00                 3                 3   \n",
       "\n",
       "      user_rating  user_rating_ver     ver cont_rating prime_genre  \\\n",
       "7192          4.5              4.5     1.3          4+       Games   \n",
       "7193          4.5              4.5     0.9          4+       Games   \n",
       "7194          4.5              0.0   1.0.2          9+   Utilities   \n",
       "7195          4.5              4.5  1.0.15         12+       Games   \n",
       "7196          5.0              5.0     1.0          4+       Games   \n",
       "\n",
       "      sup_devices.num  ipadSc_urls.num  lang.num  vpp_lic  \n",
       "7192               38                5         1        1  \n",
       "7193               38                0         1        1  \n",
       "7194               37                1         1        1  \n",
       "7195               38                0         2        1  \n",
       "7196               40                0         2        1  "
      ]
     },
     "execution_count": 2,
     "metadata": {},
     "output_type": "execute_result"
    }
   ],
   "source": [
    "#### Получение полного пути до файла с данными\n",
    "\n",
    "filename = \"AppleStore.csv\"\n",
    "print(filename)\n",
    "\n",
    "#### Чтение файла Excel с данными\n",
    "input_df = pd.read_csv(filename)\n",
    "input_df.tail()"
   ]
  },
  {
   "cell_type": "code",
   "execution_count": 81,
   "id": "bd96112e-fe39-4f39-87d1-614be5456271",
   "metadata": {},
   "outputs": [
    {
     "name": "stdout",
     "output_type": "stream",
     "text": [
      "<class 'pandas.core.frame.DataFrame'>\n",
      "RangeIndex: 7197 entries, 0 to 7196\n",
      "Data columns (total 19 columns):\n",
      " #   Column              Non-Null Count  Dtype  \n",
      "---  ------              --------------  -----  \n",
      " 0   Unnamed: 0          7197 non-null   int64  \n",
      " 1   id                  7197 non-null   int64  \n",
      " 2   track_name          7197 non-null   object \n",
      " 3   size_bytes          7197 non-null   int64  \n",
      " 4   currency            7197 non-null   object \n",
      " 5   price               7197 non-null   float64\n",
      " 6   rating_count_tot    7197 non-null   int64  \n",
      " 7   rating_count_ver    7197 non-null   int64  \n",
      " 8   user_rating         7197 non-null   float64\n",
      " 9   user_rating_ver     7197 non-null   float64\n",
      " 10  ver                 7197 non-null   object \n",
      " 11  cont_rating         7197 non-null   object \n",
      " 12  prime_genre         7197 non-null   object \n",
      " 13  sup_devices.num     7197 non-null   int64  \n",
      " 14  ipadSc_urls.num     7197 non-null   int64  \n",
      " 15  lang.num            7197 non-null   int64  \n",
      " 16  vpp_lic             7197 non-null   int64  \n",
      " 17  label1_user_rating  7197 non-null   object \n",
      " 18  label2_size_bytes   7197 non-null   object \n",
      "dtypes: float64(3), int64(9), object(7)\n",
      "memory usage: 1.0+ MB\n"
     ]
    },
    {
     "name": "stderr",
     "output_type": "stream",
     "text": [
      "C:\\Users\\user\\AppData\\Local\\Temp\\ipykernel_8768\\423642103.py:4: SettingWithCopyWarning: \n",
      "A value is trying to be set on a copy of a slice from a DataFrame.\n",
      "Try using .loc[row_indexer,col_indexer] = value instead\n",
      "\n",
      "See the caveats in the documentation: https://pandas.pydata.org/pandas-docs/stable/user_guide/indexing.html#returning-a-view-versus-a-copy\n",
      "  data['user_rating_mark'] = \"\"\n"
     ]
    },
    {
     "data": {
      "text/html": [
       "<div>\n",
       "<style scoped>\n",
       "    .dataframe tbody tr th:only-of-type {\n",
       "        vertical-align: middle;\n",
       "    }\n",
       "\n",
       "    .dataframe tbody tr th {\n",
       "        vertical-align: top;\n",
       "    }\n",
       "\n",
       "    .dataframe thead th {\n",
       "        text-align: right;\n",
       "    }\n",
       "</style>\n",
       "<table border=\"1\" class=\"dataframe\">\n",
       "  <thead>\n",
       "    <tr style=\"text-align: right;\">\n",
       "      <th></th>\n",
       "      <th>size_bytes</th>\n",
       "      <th>user_rating</th>\n",
       "      <th>user_rating_mark</th>\n",
       "    </tr>\n",
       "  </thead>\n",
       "  <tbody>\n",
       "    <tr>\n",
       "      <th>0</th>\n",
       "      <td>100788224</td>\n",
       "      <td>4.0</td>\n",
       "      <td></td>\n",
       "    </tr>\n",
       "    <tr>\n",
       "      <th>1</th>\n",
       "      <td>158578688</td>\n",
       "      <td>4.0</td>\n",
       "      <td></td>\n",
       "    </tr>\n",
       "    <tr>\n",
       "      <th>2</th>\n",
       "      <td>100524032</td>\n",
       "      <td>3.5</td>\n",
       "      <td></td>\n",
       "    </tr>\n",
       "    <tr>\n",
       "      <th>3</th>\n",
       "      <td>128512000</td>\n",
       "      <td>4.0</td>\n",
       "      <td></td>\n",
       "    </tr>\n",
       "    <tr>\n",
       "      <th>4</th>\n",
       "      <td>92774400</td>\n",
       "      <td>4.5</td>\n",
       "      <td></td>\n",
       "    </tr>\n",
       "  </tbody>\n",
       "</table>\n",
       "</div>"
      ],
      "text/plain": [
       "   size_bytes  user_rating user_rating_mark\n",
       "0   100788224          4.0                 \n",
       "1   158578688          4.0                 \n",
       "2   100524032          3.5                 \n",
       "3   128512000          4.0                 \n",
       "4    92774400          4.5                 "
      ]
     },
     "execution_count": 81,
     "metadata": {},
     "output_type": "execute_result"
    }
   ],
   "source": [
    "input_df.info()\n",
    "\n",
    "data = df[['size_bytes','user_rating']]\n",
    "data['user_rating_mark'] = \"\"\n",
    "data.head()"
   ]
  },
  {
   "cell_type": "code",
   "execution_count": 82,
   "id": "1bc61db7-e761-4109-bb38-55cdaa420b83",
   "metadata": {},
   "outputs": [],
   "source": [
    "data.to_csv('data_hw_9.csv', index=False)"
   ]
  },
  {
   "cell_type": "code",
   "execution_count": null,
   "id": "f69165d8-7207-4016-ac77-31bcd43cc8e2",
   "metadata": {},
   "outputs": [],
   "source": []
  },
  {
   "cell_type": "code",
   "execution_count": 110,
   "id": "07227436-f639-43fc-9ec2-a1fb902908af",
   "metadata": {},
   "outputs": [
    {
     "data": {
      "text/html": [
       "<div>\n",
       "<style scoped>\n",
       "    .dataframe tbody tr th:only-of-type {\n",
       "        vertical-align: middle;\n",
       "    }\n",
       "\n",
       "    .dataframe tbody tr th {\n",
       "        vertical-align: top;\n",
       "    }\n",
       "\n",
       "    .dataframe thead th {\n",
       "        text-align: right;\n",
       "    }\n",
       "</style>\n",
       "<table border=\"1\" class=\"dataframe\">\n",
       "  <thead>\n",
       "    <tr style=\"text-align: right;\">\n",
       "      <th></th>\n",
       "      <th>size_bytes</th>\n",
       "      <th>user_rating</th>\n",
       "      <th>user_rating_mark</th>\n",
       "    </tr>\n",
       "  </thead>\n",
       "  <tbody>\n",
       "    <tr>\n",
       "      <th>0</th>\n",
       "      <td>100788224</td>\n",
       "      <td>4.0</td>\n",
       "      <td>NaN</td>\n",
       "    </tr>\n",
       "    <tr>\n",
       "      <th>1</th>\n",
       "      <td>158578688</td>\n",
       "      <td>4.0</td>\n",
       "      <td>NaN</td>\n",
       "    </tr>\n",
       "    <tr>\n",
       "      <th>2</th>\n",
       "      <td>100524032</td>\n",
       "      <td>3.5</td>\n",
       "      <td>NaN</td>\n",
       "    </tr>\n",
       "    <tr>\n",
       "      <th>3</th>\n",
       "      <td>128512000</td>\n",
       "      <td>4.0</td>\n",
       "      <td>NaN</td>\n",
       "    </tr>\n",
       "    <tr>\n",
       "      <th>4</th>\n",
       "      <td>92774400</td>\n",
       "      <td>4.5</td>\n",
       "      <td>NaN</td>\n",
       "    </tr>\n",
       "    <tr>\n",
       "      <th>...</th>\n",
       "      <td>...</td>\n",
       "      <td>...</td>\n",
       "      <td>...</td>\n",
       "    </tr>\n",
       "    <tr>\n",
       "      <th>7192</th>\n",
       "      <td>126644224</td>\n",
       "      <td>4.5</td>\n",
       "      <td>NaN</td>\n",
       "    </tr>\n",
       "    <tr>\n",
       "      <th>7193</th>\n",
       "      <td>120760320</td>\n",
       "      <td>4.5</td>\n",
       "      <td>NaN</td>\n",
       "    </tr>\n",
       "    <tr>\n",
       "      <th>7194</th>\n",
       "      <td>111322112</td>\n",
       "      <td>4.5</td>\n",
       "      <td>NaN</td>\n",
       "    </tr>\n",
       "    <tr>\n",
       "      <th>7195</th>\n",
       "      <td>97235968</td>\n",
       "      <td>4.5</td>\n",
       "      <td>NaN</td>\n",
       "    </tr>\n",
       "    <tr>\n",
       "      <th>7196</th>\n",
       "      <td>90898432</td>\n",
       "      <td>5.0</td>\n",
       "      <td>NaN</td>\n",
       "    </tr>\n",
       "  </tbody>\n",
       "</table>\n",
       "<p>7197 rows × 3 columns</p>\n",
       "</div>"
      ],
      "text/plain": [
       "      size_bytes  user_rating  user_rating_mark\n",
       "0      100788224          4.0               NaN\n",
       "1      158578688          4.0               NaN\n",
       "2      100524032          3.5               NaN\n",
       "3      128512000          4.0               NaN\n",
       "4       92774400          4.5               NaN\n",
       "...          ...          ...               ...\n",
       "7192   126644224          4.5               NaN\n",
       "7193   120760320          4.5               NaN\n",
       "7194   111322112          4.5               NaN\n",
       "7195    97235968          4.5               NaN\n",
       "7196    90898432          5.0               NaN\n",
       "\n",
       "[7197 rows x 3 columns]"
      ]
     },
     "execution_count": 110,
     "metadata": {},
     "output_type": "execute_result"
    }
   ],
   "source": [
    "# Читаем полученный файл\n",
    "df = pd.read_csv('data_hw_9.csv')\n",
    "df"
   ]
  },
  {
   "cell_type": "code",
   "execution_count": 84,
   "id": "fc2b11f5-f430-49f1-be38-8a27069453ce",
   "metadata": {},
   "outputs": [],
   "source": [
    "subset_auto, subset_manual = train_test_split(df, test_size=0.05, random_state=42)\n",
    "\n",
    "# Сохраним второе подмножество\n",
    "subset_manual.to_csv('subset_manual.csv', index=False)\n",
    "\n",
    "# Деление множества поровну\n",
    "#split_index = len(df) // 2\n",
    "\n",
    "# Берем первую половину данных для автоматической разметки на основе правил\n",
    "#subset_auto = df.iloc[:split_index, :]\n",
    "\n",
    "# Берем вторую половину данных для ручной разметки в 4 задаче и сохраним его\n",
    "#subset_manual = df.iloc[split_index:, :]\n",
    "#subset_manual.to_csv('subset_manual.csv', index=False)"
   ]
  },
  {
   "cell_type": "markdown",
   "id": "3c96b553-3a97-4d4c-b4fc-d52c00035d59",
   "metadata": {},
   "source": [
    "**Задание 2.\n",
    "Выполните разметку на основе правил (rule-based labeling) на подмножестве выбранного датасета. Разработайте и реализуйте набор правил или условий, которые позволят автоматически присваивать метки данным на основе определенных шаблонов или критериев.**"
   ]
  },
  {
   "cell_type": "code",
   "execution_count": 85,
   "id": "ccc08f48-63c3-4a98-a202-9f8e7f4ebf82",
   "metadata": {},
   "outputs": [
    {
     "data": {
      "text/html": [
       "<div>\n",
       "<style scoped>\n",
       "    .dataframe tbody tr th:only-of-type {\n",
       "        vertical-align: middle;\n",
       "    }\n",
       "\n",
       "    .dataframe tbody tr th {\n",
       "        vertical-align: top;\n",
       "    }\n",
       "\n",
       "    .dataframe thead th {\n",
       "        text-align: right;\n",
       "    }\n",
       "</style>\n",
       "<table border=\"1\" class=\"dataframe\">\n",
       "  <thead>\n",
       "    <tr style=\"text-align: right;\">\n",
       "      <th></th>\n",
       "      <th>size_bytes</th>\n",
       "      <th>user_rating</th>\n",
       "      <th>user_rating_mark</th>\n",
       "    </tr>\n",
       "  </thead>\n",
       "  <tbody>\n",
       "    <tr>\n",
       "      <th>6819</th>\n",
       "      <td>704336896</td>\n",
       "      <td>4.5</td>\n",
       "      <td>NaN</td>\n",
       "    </tr>\n",
       "    <tr>\n",
       "      <th>1374</th>\n",
       "      <td>21434368</td>\n",
       "      <td>4.5</td>\n",
       "      <td>NaN</td>\n",
       "    </tr>\n",
       "    <tr>\n",
       "      <th>4629</th>\n",
       "      <td>469181440</td>\n",
       "      <td>0.0</td>\n",
       "      <td>NaN</td>\n",
       "    </tr>\n",
       "    <tr>\n",
       "      <th>1964</th>\n",
       "      <td>226834432</td>\n",
       "      <td>4.5</td>\n",
       "      <td>NaN</td>\n",
       "    </tr>\n",
       "    <tr>\n",
       "      <th>91</th>\n",
       "      <td>133238784</td>\n",
       "      <td>3.5</td>\n",
       "      <td>NaN</td>\n",
       "    </tr>\n",
       "    <tr>\n",
       "      <th>...</th>\n",
       "      <td>...</td>\n",
       "      <td>...</td>\n",
       "      <td>...</td>\n",
       "    </tr>\n",
       "    <tr>\n",
       "      <th>3772</th>\n",
       "      <td>43722752</td>\n",
       "      <td>2.5</td>\n",
       "      <td>NaN</td>\n",
       "    </tr>\n",
       "    <tr>\n",
       "      <th>5191</th>\n",
       "      <td>52270080</td>\n",
       "      <td>0.0</td>\n",
       "      <td>NaN</td>\n",
       "    </tr>\n",
       "    <tr>\n",
       "      <th>5226</th>\n",
       "      <td>192272384</td>\n",
       "      <td>4.5</td>\n",
       "      <td>NaN</td>\n",
       "    </tr>\n",
       "    <tr>\n",
       "      <th>5390</th>\n",
       "      <td>1030500352</td>\n",
       "      <td>3.5</td>\n",
       "      <td>NaN</td>\n",
       "    </tr>\n",
       "    <tr>\n",
       "      <th>860</th>\n",
       "      <td>85049344</td>\n",
       "      <td>4.5</td>\n",
       "      <td>NaN</td>\n",
       "    </tr>\n",
       "  </tbody>\n",
       "</table>\n",
       "<p>6837 rows × 3 columns</p>\n",
       "</div>"
      ],
      "text/plain": [
       "      size_bytes  user_rating  user_rating_mark\n",
       "6819   704336896          4.5               NaN\n",
       "1374    21434368          4.5               NaN\n",
       "4629   469181440          0.0               NaN\n",
       "1964   226834432          4.5               NaN\n",
       "91     133238784          3.5               NaN\n",
       "...          ...          ...               ...\n",
       "3772    43722752          2.5               NaN\n",
       "5191    52270080          0.0               NaN\n",
       "5226   192272384          4.5               NaN\n",
       "5390  1030500352          3.5               NaN\n",
       "860     85049344          4.5               NaN\n",
       "\n",
       "[6837 rows x 3 columns]"
      ]
     },
     "execution_count": 85,
     "metadata": {},
     "output_type": "execute_result"
    }
   ],
   "source": [
    "# Определим под 1 подмножество правила\n",
    "subset_auto"
   ]
  },
  {
   "cell_type": "code",
   "execution_count": 89,
   "id": "c665f83d-63d3-4892-abd6-38d897164f68",
   "metadata": {},
   "outputs": [],
   "source": [
    "### Функция для разметки основанной на правилах\n",
    "\n",
    "### user_rating - оценка пользователей\n",
    "\n",
    "def mark_user_rating(row):\n",
    "    if row['user_rating'] >= 4.5:\n",
    "        return 'high'\n",
    "    elif 3.5 <= row['user_rating'] < 4.5:\n",
    "        return 'medium'\n",
    "    else:\n",
    "        return 'low'"
   ]
  },
  {
   "cell_type": "code",
   "execution_count": 107,
   "id": "7bc6b4f7-f65d-4051-9b49-5eaf991d8023",
   "metadata": {},
   "outputs": [
    {
     "data": {
      "text/html": [
       "<div>\n",
       "<style scoped>\n",
       "    .dataframe tbody tr th:only-of-type {\n",
       "        vertical-align: middle;\n",
       "    }\n",
       "\n",
       "    .dataframe tbody tr th {\n",
       "        vertical-align: top;\n",
       "    }\n",
       "\n",
       "    .dataframe thead th {\n",
       "        text-align: right;\n",
       "    }\n",
       "</style>\n",
       "<table border=\"1\" class=\"dataframe\">\n",
       "  <thead>\n",
       "    <tr style=\"text-align: right;\">\n",
       "      <th></th>\n",
       "      <th>size_bytes</th>\n",
       "      <th>user_rating</th>\n",
       "      <th>user_rating_mark</th>\n",
       "    </tr>\n",
       "  </thead>\n",
       "  <tbody>\n",
       "    <tr>\n",
       "      <th>6819</th>\n",
       "      <td>704336896</td>\n",
       "      <td>4.5</td>\n",
       "      <td>high</td>\n",
       "    </tr>\n",
       "    <tr>\n",
       "      <th>1374</th>\n",
       "      <td>21434368</td>\n",
       "      <td>4.5</td>\n",
       "      <td>high</td>\n",
       "    </tr>\n",
       "    <tr>\n",
       "      <th>4629</th>\n",
       "      <td>469181440</td>\n",
       "      <td>0.0</td>\n",
       "      <td>low</td>\n",
       "    </tr>\n",
       "    <tr>\n",
       "      <th>1964</th>\n",
       "      <td>226834432</td>\n",
       "      <td>4.5</td>\n",
       "      <td>high</td>\n",
       "    </tr>\n",
       "    <tr>\n",
       "      <th>91</th>\n",
       "      <td>133238784</td>\n",
       "      <td>3.5</td>\n",
       "      <td>medium</td>\n",
       "    </tr>\n",
       "  </tbody>\n",
       "</table>\n",
       "</div>"
      ],
      "text/plain": [
       "      size_bytes  user_rating user_rating_mark\n",
       "6819   704336896          4.5             high\n",
       "1374    21434368          4.5             high\n",
       "4629   469181440          0.0              low\n",
       "1964   226834432          4.5             high\n",
       "91     133238784          3.5           medium"
      ]
     },
     "execution_count": 107,
     "metadata": {},
     "output_type": "execute_result"
    }
   ],
   "source": [
    "subset_auto['user_rating_mark'] = subset_auto.apply(mark_user_rating, axis=1)\n",
    "subset_auto.head()"
   ]
  },
  {
   "cell_type": "code",
   "execution_count": 91,
   "id": "9be47872-725a-4dcc-ac09-8a72d3b62add",
   "metadata": {},
   "outputs": [
    {
     "data": {
      "text/plain": [
       "size_bytes  user_rating  user_rating_mark\n",
       "31624192    0.0          low                 3\n",
       "51174400    0.0          low                 2\n",
       "93580288    4.0          medium              2\n",
       "35957760    4.5          high                2\n",
       "40071168    4.5          high                2\n",
       "                                            ..\n",
       "3896109056  4.5          high                1\n",
       "3956326400  0.0          low                 1\n",
       "3968637952  0.0          low                 1\n",
       "3975609344  0.0          low                 1\n",
       "2998989824  3.5          medium              1\n",
       "Name: count, Length: 6821, dtype: int64"
      ]
     },
     "execution_count": 91,
     "metadata": {},
     "output_type": "execute_result"
    }
   ],
   "source": [
    "subset_auto.value_counts()"
   ]
  },
  {
   "cell_type": "code",
   "execution_count": 92,
   "id": "c47c219a-96e6-4d5a-8c04-f43747dbba22",
   "metadata": {},
   "outputs": [
    {
     "name": "stdout",
     "output_type": "stream",
     "text": [
      "<class 'pandas.core.frame.DataFrame'>\n",
      "Index: 6837 entries, 6819 to 860\n",
      "Data columns (total 3 columns):\n",
      " #   Column            Non-Null Count  Dtype  \n",
      "---  ------            --------------  -----  \n",
      " 0   size_bytes        6837 non-null   int64  \n",
      " 1   user_rating       6837 non-null   float64\n",
      " 2   user_rating_mark  6837 non-null   object \n",
      "dtypes: float64(1), int64(1), object(1)\n",
      "memory usage: 213.7+ KB\n"
     ]
    }
   ],
   "source": [
    "subset_auto.info()"
   ]
  },
  {
   "cell_type": "code",
   "execution_count": 111,
   "id": "4c56a38d-09c9-41e6-98a7-f67f4368f4ec",
   "metadata": {},
   "outputs": [],
   "source": [
    "subset_auto.to_csv('subset_auto.csv', index=False)"
   ]
  },
  {
   "cell_type": "markdown",
   "id": "590d41e4-53eb-42ab-bcd4-7da7f8849e63",
   "metadata": {},
   "source": [
    "**Задача 3.\n",
    "Выполните разметку вручную отдельного подмножества выбранного датасета с помощью выбранного вами инструмента разметки.**"
   ]
  },
  {
   "cell_type": "code",
   "execution_count": 105,
   "id": "87cd4545-fc48-4655-a1ad-88e7956ab542",
   "metadata": {},
   "outputs": [
    {
     "data": {
      "text/html": [
       "<div>\n",
       "<style scoped>\n",
       "    .dataframe tbody tr th:only-of-type {\n",
       "        vertical-align: middle;\n",
       "    }\n",
       "\n",
       "    .dataframe tbody tr th {\n",
       "        vertical-align: top;\n",
       "    }\n",
       "\n",
       "    .dataframe thead th {\n",
       "        text-align: right;\n",
       "    }\n",
       "</style>\n",
       "<table border=\"1\" class=\"dataframe\">\n",
       "  <thead>\n",
       "    <tr style=\"text-align: right;\">\n",
       "      <th></th>\n",
       "      <th>annotation_id</th>\n",
       "      <th>annotator</th>\n",
       "      <th>created_at</th>\n",
       "      <th>id</th>\n",
       "      <th>lead_time</th>\n",
       "      <th>sentiment</th>\n",
       "      <th>size_bytes</th>\n",
       "      <th>updated_at</th>\n",
       "      <th>user_rating</th>\n",
       "      <th>user_rating_mark</th>\n",
       "    </tr>\n",
       "  </thead>\n",
       "  <tbody>\n",
       "    <tr>\n",
       "      <th>0</th>\n",
       "      <td>361</td>\n",
       "      <td>2</td>\n",
       "      <td>2024-10-14T20:49:40.208168Z</td>\n",
       "      <td>7198</td>\n",
       "      <td>3.427</td>\n",
       "      <td>high</td>\n",
       "      <td>79404032</td>\n",
       "      <td>2024-10-14T20:49:41.666588Z</td>\n",
       "      <td>5.0</td>\n",
       "      <td>NaN</td>\n",
       "    </tr>\n",
       "    <tr>\n",
       "      <th>1</th>\n",
       "      <td>362</td>\n",
       "      <td>2</td>\n",
       "      <td>2024-10-14T20:49:51.741818Z</td>\n",
       "      <td>7199</td>\n",
       "      <td>1.540</td>\n",
       "      <td>high</td>\n",
       "      <td>12734464</td>\n",
       "      <td>2024-10-14T20:49:51.741818Z</td>\n",
       "      <td>4.5</td>\n",
       "      <td>NaN</td>\n",
       "    </tr>\n",
       "    <tr>\n",
       "      <th>2</th>\n",
       "      <td>363</td>\n",
       "      <td>2</td>\n",
       "      <td>2024-10-14T20:50:05.698725Z</td>\n",
       "      <td>7200</td>\n",
       "      <td>4.021</td>\n",
       "      <td>high</td>\n",
       "      <td>308125696</td>\n",
       "      <td>2024-10-14T20:50:05.698725Z</td>\n",
       "      <td>4.0</td>\n",
       "      <td>NaN</td>\n",
       "    </tr>\n",
       "    <tr>\n",
       "      <th>3</th>\n",
       "      <td>364</td>\n",
       "      <td>2</td>\n",
       "      <td>2024-10-14T20:50:13.974797Z</td>\n",
       "      <td>7201</td>\n",
       "      <td>1.799</td>\n",
       "      <td>low</td>\n",
       "      <td>28471296</td>\n",
       "      <td>2024-10-14T20:50:13.974797Z</td>\n",
       "      <td>1.0</td>\n",
       "      <td>NaN</td>\n",
       "    </tr>\n",
       "    <tr>\n",
       "      <th>4</th>\n",
       "      <td>365</td>\n",
       "      <td>2</td>\n",
       "      <td>2024-10-14T20:50:19.979042Z</td>\n",
       "      <td>7202</td>\n",
       "      <td>1.449</td>\n",
       "      <td>low</td>\n",
       "      <td>404173824</td>\n",
       "      <td>2024-10-14T20:50:19.979042Z</td>\n",
       "      <td>3.0</td>\n",
       "      <td>NaN</td>\n",
       "    </tr>\n",
       "  </tbody>\n",
       "</table>\n",
       "</div>"
      ],
      "text/plain": [
       "   annotation_id  annotator                   created_at    id  lead_time  \\\n",
       "0            361          2  2024-10-14T20:49:40.208168Z  7198      3.427   \n",
       "1            362          2  2024-10-14T20:49:51.741818Z  7199      1.540   \n",
       "2            363          2  2024-10-14T20:50:05.698725Z  7200      4.021   \n",
       "3            364          2  2024-10-14T20:50:13.974797Z  7201      1.799   \n",
       "4            365          2  2024-10-14T20:50:19.979042Z  7202      1.449   \n",
       "\n",
       "  sentiment  size_bytes                   updated_at  user_rating  \\\n",
       "0      high    79404032  2024-10-14T20:49:41.666588Z          5.0   \n",
       "1      high    12734464  2024-10-14T20:49:51.741818Z          4.5   \n",
       "2      high   308125696  2024-10-14T20:50:05.698725Z          4.0   \n",
       "3       low    28471296  2024-10-14T20:50:13.974797Z          1.0   \n",
       "4       low   404173824  2024-10-14T20:50:19.979042Z          3.0   \n",
       "\n",
       "   user_rating_mark  \n",
       "0               NaN  \n",
       "1               NaN  \n",
       "2               NaN  \n",
       "3               NaN  \n",
       "4               NaN  "
      ]
     },
     "execution_count": 105,
     "metadata": {},
     "output_type": "execute_result"
    }
   ],
   "source": [
    "# Проверим\n",
    "df_man = pd.read_csv('subset_manual_check.csv')\n",
    "df_man.head()"
   ]
  },
  {
   "cell_type": "code",
   "execution_count": 106,
   "id": "d0c4abfa-e2df-4631-ac7e-ed43a5a88988",
   "metadata": {},
   "outputs": [
    {
     "name": "stdout",
     "output_type": "stream",
     "text": [
      "<class 'pandas.core.frame.DataFrame'>\n",
      "RangeIndex: 360 entries, 0 to 359\n",
      "Data columns (total 10 columns):\n",
      " #   Column            Non-Null Count  Dtype  \n",
      "---  ------            --------------  -----  \n",
      " 0   annotation_id     360 non-null    int64  \n",
      " 1   annotator         360 non-null    int64  \n",
      " 2   created_at        360 non-null    object \n",
      " 3   id                360 non-null    int64  \n",
      " 4   lead_time         360 non-null    float64\n",
      " 5   sentiment         360 non-null    object \n",
      " 6   size_bytes        360 non-null    int64  \n",
      " 7   updated_at        360 non-null    object \n",
      " 8   user_rating       360 non-null    float64\n",
      " 9   user_rating_mark  0 non-null      float64\n",
      "dtypes: float64(3), int64(4), object(3)\n",
      "memory usage: 28.3+ KB\n"
     ]
    }
   ],
   "source": [
    "df_man.info()"
   ]
  },
  {
   "cell_type": "markdown",
   "id": "2086dfd4-b4f6-425e-bc4b-8d8c4522072a",
   "metadata": {},
   "source": [
    "**Задача 3.\n",
    "Выполните разметку вручную отдельного подмножества выбранного датасета с помощью выбранного вами инструмента разметки.**"
   ]
  },
  {
   "cell_type": "code",
   "execution_count": 119,
   "id": "aabf567e-4abe-4761-afbd-1e0077dc5a34",
   "metadata": {},
   "outputs": [
    {
     "name": "stderr",
     "output_type": "stream",
     "text": [
      "C:\\Users\\user\\AppData\\Local\\Temp\\ipykernel_8768\\2234759337.py:5: SettingWithCopyWarning: \n",
      "A value is trying to be set on a copy of a slice from a DataFrame\n",
      "\n",
      "See the caveats in the documentation: https://pandas.pydata.org/pandas-docs/stable/user_guide/indexing.html#returning-a-view-versus-a-copy\n",
      "  manual_to_merge_df.rename(columns={old_column_name: new_column_name}, inplace=True)\n"
     ]
    },
    {
     "data": {
      "text/html": [
       "<div>\n",
       "<style scoped>\n",
       "    .dataframe tbody tr th:only-of-type {\n",
       "        vertical-align: middle;\n",
       "    }\n",
       "\n",
       "    .dataframe tbody tr th {\n",
       "        vertical-align: top;\n",
       "    }\n",
       "\n",
       "    .dataframe thead th {\n",
       "        text-align: right;\n",
       "    }\n",
       "</style>\n",
       "<table border=\"1\" class=\"dataframe\">\n",
       "  <thead>\n",
       "    <tr style=\"text-align: right;\">\n",
       "      <th></th>\n",
       "      <th>size_bytes</th>\n",
       "      <th>user_rating</th>\n",
       "      <th>user_rating_mark</th>\n",
       "    </tr>\n",
       "  </thead>\n",
       "  <tbody>\n",
       "    <tr>\n",
       "      <th>0</th>\n",
       "      <td>79404032</td>\n",
       "      <td>5.0</td>\n",
       "      <td>high</td>\n",
       "    </tr>\n",
       "    <tr>\n",
       "      <th>1</th>\n",
       "      <td>12734464</td>\n",
       "      <td>4.5</td>\n",
       "      <td>high</td>\n",
       "    </tr>\n",
       "    <tr>\n",
       "      <th>2</th>\n",
       "      <td>308125696</td>\n",
       "      <td>4.0</td>\n",
       "      <td>high</td>\n",
       "    </tr>\n",
       "    <tr>\n",
       "      <th>3</th>\n",
       "      <td>28471296</td>\n",
       "      <td>1.0</td>\n",
       "      <td>low</td>\n",
       "    </tr>\n",
       "    <tr>\n",
       "      <th>4</th>\n",
       "      <td>404173824</td>\n",
       "      <td>3.0</td>\n",
       "      <td>low</td>\n",
       "    </tr>\n",
       "  </tbody>\n",
       "</table>\n",
       "</div>"
      ],
      "text/plain": [
       "   size_bytes  user_rating user_rating_mark\n",
       "0    79404032          5.0             high\n",
       "1    12734464          4.5             high\n",
       "2   308125696          4.0             high\n",
       "3    28471296          1.0              low\n",
       "4   404173824          3.0              low"
      ]
     },
     "execution_count": 119,
     "metadata": {},
     "output_type": "execute_result"
    }
   ],
   "source": [
    "# Перенесем интересующие нас данные в столбцы в новый dataset для объединения\n",
    "manual_to_merge_df = df_man[['size_bytes','user_rating','sentiment']]\n",
    "old_column_name = 'sentiment'\n",
    "new_column_name = 'user_rating_mark'\n",
    "manual_to_merge_df.rename(columns={old_column_name: new_column_name}, inplace=True)\n",
    "\n",
    "# сохраним новую версию файла\n",
    "manual_to_merge_df.to_csv('subset_manual_check_1.csv', index=False)\n",
    "manual_to_merge_df.head()\n",
    "\n"
   ]
  },
  {
   "cell_type": "code",
   "execution_count": 116,
   "id": "10b74904-608f-4dc7-b646-c6d472046e78",
   "metadata": {},
   "outputs": [
    {
     "data": {
      "text/html": [
       "<div>\n",
       "<style scoped>\n",
       "    .dataframe tbody tr th:only-of-type {\n",
       "        vertical-align: middle;\n",
       "    }\n",
       "\n",
       "    .dataframe tbody tr th {\n",
       "        vertical-align: top;\n",
       "    }\n",
       "\n",
       "    .dataframe thead th {\n",
       "        text-align: right;\n",
       "    }\n",
       "</style>\n",
       "<table border=\"1\" class=\"dataframe\">\n",
       "  <thead>\n",
       "    <tr style=\"text-align: right;\">\n",
       "      <th></th>\n",
       "      <th>size_bytes</th>\n",
       "      <th>user_rating</th>\n",
       "      <th>user_rating_mark</th>\n",
       "    </tr>\n",
       "  </thead>\n",
       "  <tbody>\n",
       "    <tr>\n",
       "      <th>0</th>\n",
       "      <td>704336896</td>\n",
       "      <td>4.5</td>\n",
       "      <td>high</td>\n",
       "    </tr>\n",
       "    <tr>\n",
       "      <th>1</th>\n",
       "      <td>21434368</td>\n",
       "      <td>4.5</td>\n",
       "      <td>high</td>\n",
       "    </tr>\n",
       "    <tr>\n",
       "      <th>2</th>\n",
       "      <td>469181440</td>\n",
       "      <td>0.0</td>\n",
       "      <td>low</td>\n",
       "    </tr>\n",
       "    <tr>\n",
       "      <th>3</th>\n",
       "      <td>226834432</td>\n",
       "      <td>4.5</td>\n",
       "      <td>high</td>\n",
       "    </tr>\n",
       "    <tr>\n",
       "      <th>4</th>\n",
       "      <td>133238784</td>\n",
       "      <td>3.5</td>\n",
       "      <td>medium</td>\n",
       "    </tr>\n",
       "  </tbody>\n",
       "</table>\n",
       "</div>"
      ],
      "text/plain": [
       "   size_bytes  user_rating user_rating_mark\n",
       "0   704336896          4.5             high\n",
       "1    21434368          4.5             high\n",
       "2   469181440          0.0              low\n",
       "3   226834432          4.5             high\n",
       "4   133238784          3.5           medium"
      ]
     },
     "execution_count": 116,
     "metadata": {},
     "output_type": "execute_result"
    }
   ],
   "source": [
    "# Объедините два подмножества в один набор данных\n",
    "subset_auto_df = pd.read_csv('subset_auto.csv')\n",
    "subset_auto_df.head()\n",
    "\n"
   ]
  },
  {
   "cell_type": "code",
   "execution_count": 121,
   "id": "0eb27fda-eb1e-4f2e-85f9-c78e23270cd3",
   "metadata": {},
   "outputs": [
    {
     "data": {
      "text/html": [
       "<div>\n",
       "<style scoped>\n",
       "    .dataframe tbody tr th:only-of-type {\n",
       "        vertical-align: middle;\n",
       "    }\n",
       "\n",
       "    .dataframe tbody tr th {\n",
       "        vertical-align: top;\n",
       "    }\n",
       "\n",
       "    .dataframe thead th {\n",
       "        text-align: right;\n",
       "    }\n",
       "</style>\n",
       "<table border=\"1\" class=\"dataframe\">\n",
       "  <thead>\n",
       "    <tr style=\"text-align: right;\">\n",
       "      <th></th>\n",
       "      <th>size_bytes</th>\n",
       "      <th>user_rating</th>\n",
       "      <th>user_rating_mark</th>\n",
       "    </tr>\n",
       "  </thead>\n",
       "  <tbody>\n",
       "    <tr>\n",
       "      <th>0</th>\n",
       "      <td>79404032</td>\n",
       "      <td>5.0</td>\n",
       "      <td>high</td>\n",
       "    </tr>\n",
       "    <tr>\n",
       "      <th>1</th>\n",
       "      <td>12734464</td>\n",
       "      <td>4.5</td>\n",
       "      <td>high</td>\n",
       "    </tr>\n",
       "    <tr>\n",
       "      <th>2</th>\n",
       "      <td>308125696</td>\n",
       "      <td>4.0</td>\n",
       "      <td>high</td>\n",
       "    </tr>\n",
       "    <tr>\n",
       "      <th>3</th>\n",
       "      <td>28471296</td>\n",
       "      <td>1.0</td>\n",
       "      <td>low</td>\n",
       "    </tr>\n",
       "    <tr>\n",
       "      <th>4</th>\n",
       "      <td>404173824</td>\n",
       "      <td>3.0</td>\n",
       "      <td>low</td>\n",
       "    </tr>\n",
       "  </tbody>\n",
       "</table>\n",
       "</div>"
      ],
      "text/plain": [
       "   size_bytes  user_rating user_rating_mark\n",
       "0    79404032          5.0             high\n",
       "1    12734464          4.5             high\n",
       "2   308125696          4.0             high\n",
       "3    28471296          1.0              low\n",
       "4   404173824          3.0              low"
      ]
     },
     "execution_count": 121,
     "metadata": {},
     "output_type": "execute_result"
    }
   ],
   "source": [
    "subset_manual_df = pd.read_csv('subset_manual_check_1.csv')\n",
    "subset_manual_df.head()"
   ]
  },
  {
   "cell_type": "code",
   "execution_count": 122,
   "id": "6f208972-a1a6-4bb8-ac35-9f2fb87b88fd",
   "metadata": {},
   "outputs": [],
   "source": [
    "merged_dataset = pd.concat([subset_auto_df, subset_manual_df], ignore_index=True)\n",
    "\n",
    "# Сохраните объединенный набор данных в файл, замените 'merged_dataset.csv' на желаемое имя файла\n",
    "merged_dataset.to_csv('merged_dataset.csv', index=False)"
   ]
  },
  {
   "cell_type": "markdown",
   "id": "6970ca1c-d908-42bc-afcd-860a0117329f",
   "metadata": {},
   "source": [
    "**Задача 5.\n",
    "Обучите модель машинного обучения, используя объединенный набор размеченных данных.\n",
    "Разделите датасет на обучающий и тестовый наборы и используйте обучающий набор для обучения модели.**"
   ]
  },
  {
   "cell_type": "code",
   "execution_count": 123,
   "id": "f8cc4c69-13e0-4446-8331-48d15e73159c",
   "metadata": {},
   "outputs": [
    {
     "data": {
      "text/html": [
       "<div>\n",
       "<style scoped>\n",
       "    .dataframe tbody tr th:only-of-type {\n",
       "        vertical-align: middle;\n",
       "    }\n",
       "\n",
       "    .dataframe tbody tr th {\n",
       "        vertical-align: top;\n",
       "    }\n",
       "\n",
       "    .dataframe thead th {\n",
       "        text-align: right;\n",
       "    }\n",
       "</style>\n",
       "<table border=\"1\" class=\"dataframe\">\n",
       "  <thead>\n",
       "    <tr style=\"text-align: right;\">\n",
       "      <th></th>\n",
       "      <th>size_bytes</th>\n",
       "      <th>user_rating</th>\n",
       "      <th>user_rating_mark</th>\n",
       "    </tr>\n",
       "  </thead>\n",
       "  <tbody>\n",
       "    <tr>\n",
       "      <th>0</th>\n",
       "      <td>704336896</td>\n",
       "      <td>4.5</td>\n",
       "      <td>high</td>\n",
       "    </tr>\n",
       "    <tr>\n",
       "      <th>1</th>\n",
       "      <td>21434368</td>\n",
       "      <td>4.5</td>\n",
       "      <td>high</td>\n",
       "    </tr>\n",
       "    <tr>\n",
       "      <th>2</th>\n",
       "      <td>469181440</td>\n",
       "      <td>0.0</td>\n",
       "      <td>low</td>\n",
       "    </tr>\n",
       "    <tr>\n",
       "      <th>3</th>\n",
       "      <td>226834432</td>\n",
       "      <td>4.5</td>\n",
       "      <td>high</td>\n",
       "    </tr>\n",
       "    <tr>\n",
       "      <th>4</th>\n",
       "      <td>133238784</td>\n",
       "      <td>3.5</td>\n",
       "      <td>medium</td>\n",
       "    </tr>\n",
       "    <tr>\n",
       "      <th>...</th>\n",
       "      <td>...</td>\n",
       "      <td>...</td>\n",
       "      <td>...</td>\n",
       "    </tr>\n",
       "    <tr>\n",
       "      <th>7192</th>\n",
       "      <td>96872448</td>\n",
       "      <td>4.5</td>\n",
       "      <td>high</td>\n",
       "    </tr>\n",
       "    <tr>\n",
       "      <th>7193</th>\n",
       "      <td>21010210</td>\n",
       "      <td>4.0</td>\n",
       "      <td>medium</td>\n",
       "    </tr>\n",
       "    <tr>\n",
       "      <th>7194</th>\n",
       "      <td>408755200</td>\n",
       "      <td>2.5</td>\n",
       "      <td>low</td>\n",
       "    </tr>\n",
       "    <tr>\n",
       "      <th>7195</th>\n",
       "      <td>83575808</td>\n",
       "      <td>3.0</td>\n",
       "      <td>low</td>\n",
       "    </tr>\n",
       "    <tr>\n",
       "      <th>7196</th>\n",
       "      <td>30601216</td>\n",
       "      <td>3.5</td>\n",
       "      <td>medium</td>\n",
       "    </tr>\n",
       "  </tbody>\n",
       "</table>\n",
       "<p>7197 rows × 3 columns</p>\n",
       "</div>"
      ],
      "text/plain": [
       "      size_bytes  user_rating user_rating_mark\n",
       "0      704336896          4.5             high\n",
       "1       21434368          4.5             high\n",
       "2      469181440          0.0              low\n",
       "3      226834432          4.5             high\n",
       "4      133238784          3.5           medium\n",
       "...          ...          ...              ...\n",
       "7192    96872448          4.5             high\n",
       "7193    21010210          4.0           medium\n",
       "7194   408755200          2.5              low\n",
       "7195    83575808          3.0              low\n",
       "7196    30601216          3.5           medium\n",
       "\n",
       "[7197 rows x 3 columns]"
      ]
     },
     "execution_count": 123,
     "metadata": {},
     "output_type": "execute_result"
    }
   ],
   "source": [
    "from sklearn.model_selection import train_test_split\n",
    "from sklearn.linear_model import LogisticRegression  # Пример модели\n",
    "\n",
    "# чтение нашего объединенного файла\n",
    "df_merge = pd.read_csv('merged_dataset.csv')\n",
    "df_merge"
   ]
  },
  {
   "cell_type": "code",
   "execution_count": 137,
   "id": "6228d37f-91c5-4c65-b27f-9db78af01ee6",
   "metadata": {},
   "outputs": [
    {
     "name": "stderr",
     "output_type": "stream",
     "text": [
      "C:\\Users\\user\\AppData\\Local\\Temp\\ipykernel_8768\\3894347623.py:2: FutureWarning: Downcasting behavior in `replace` is deprecated and will be removed in a future version. To retain the old behavior, explicitly call `result.infer_objects(copy=False)`. To opt-in to the future behavior, set `pd.set_option('future.no_silent_downcasting', True)`\n",
      "  df_merge['user_rating_mark'] = df_merge['user_rating_mark'].replace({'low': 0, 'medium': 1, 'high': 2})\n"
     ]
    }
   ],
   "source": [
    "#Замена строк на числа в датасете\n",
    "df_merge['user_rating_mark'] = df_merge['user_rating_mark'].replace({'low': 0, 'medium': 1, 'high': 2})"
   ]
  },
  {
   "cell_type": "code",
   "execution_count": 138,
   "id": "07041f39-ce71-4942-b948-d10b6c414355",
   "metadata": {},
   "outputs": [
    {
     "data": {
      "text/plain": [
       "array([2, 0, 1])"
      ]
     },
     "execution_count": 138,
     "metadata": {},
     "output_type": "execute_result"
    }
   ],
   "source": [
    "df_merge['user_rating_mark'].unique()"
   ]
  },
  {
   "cell_type": "code",
   "execution_count": 127,
   "id": "46404e4f-3510-4491-b241-f5c93d4aa98a",
   "metadata": {},
   "outputs": [
    {
     "data": {
      "text/plain": [
       "array([4.5, 0. , 3.5, 5. , 2. , 3. , 4. , 2.5, 1.5, 1. ])"
      ]
     },
     "execution_count": 127,
     "metadata": {},
     "output_type": "execute_result"
    }
   ],
   "source": [
    "df_merge['user_rating'].unique()"
   ]
  },
  {
   "cell_type": "code",
   "execution_count": 163,
   "id": "86291143-687c-4863-bc56-6b4292f5f6f3",
   "metadata": {},
   "outputs": [
    {
     "data": {
      "text/plain": [
       "1.0"
      ]
     },
     "execution_count": 163,
     "metadata": {},
     "output_type": "execute_result"
    }
   ],
   "source": [
    "# Разделите данные на признаки (X) и целевую переменную (y)\n",
    "X = df_merge.drop('size_bytes', axis = 1)  # Замените 'target_column_name' на имя вашей целевой переменной\n",
    "y = df_merge['user_rating_mark']\n",
    "\n",
    "# Разделим данные на обучающий и тестовый наборы\n",
    "X_train, X_test, y_train, y_test = train_test_split(X, y, test_size=0.2, random_state=42)  # Можно указать любой test_size и random_state\n",
    "\n",
    "\n",
    "# Инициализируем модель машинного обучения (в данном случае пример с логистической регрессией)\n",
    "model = LogisticRegression()  # Можно заменить на другую модель\n",
    "\n",
    "\n",
    "# Обучим модель на обучающем наборе\n",
    "model.fit(X_train, y_train)\n",
    "# Оценим производительность модели на тестовом наборе\n",
    "accuracy = model.score(X_test, y_test)\n",
    "accuracy"
   ]
  },
  {
   "cell_type": "markdown",
   "id": "bedca30b-59f9-4289-bbdf-6e3846f8eaf8",
   "metadata": {},
   "source": [
    "**Задача 6.\r\n",
    "Оценить эффективность обученной модели на тестовом датасете. Используйте подходящие метрики оценки. Интерпретируйте результаты и проанализируйте эффективность модели в решении задачи разметки**\n",
    "\n",
    "***Для задачи классификации могут быть использованы метрики, такие как точность (accuracy), полнота (recall), точность (precision), F1-мера и кривая ROC-AUC. Для каждой метрики можно провести интерпретацию и анализ результатов.***."
   ]
  },
  {
   "cell_type": "code",
   "execution_count": 164,
   "id": "286d2364-8173-45f8-b739-4f403648e0f6",
   "metadata": {},
   "outputs": [
    {
     "data": {
      "text/plain": [
       "array([2, 1, 2, ..., 0, 2, 2])"
      ]
     },
     "execution_count": 164,
     "metadata": {},
     "output_type": "execute_result"
    }
   ],
   "source": [
    "# Предсказание меток классов на тестовом наборе\n",
    "y_pred = model.predict(X_test)\n",
    "y_pred"
   ]
  },
  {
   "cell_type": "code",
   "execution_count": 165,
   "id": "db801dd6-57c9-4b44-bf46-82dc0ca74bd5",
   "metadata": {},
   "outputs": [
    {
     "data": {
      "text/plain": [
       "1.0"
      ]
     },
     "execution_count": 165,
     "metadata": {},
     "output_type": "execute_result"
    }
   ],
   "source": [
    "# Оценка точности модели\n",
    "accuracy_1 = accuracy_score(y_test, y_pred)\n",
    "accuracy_1"
   ]
  },
  {
   "cell_type": "code",
   "execution_count": 159,
   "id": "2b341fe2-8403-48d5-9590-934dfd68fb14",
   "metadata": {},
   "outputs": [
    {
     "data": {
      "text/plain": [
       "'              precision    recall  f1-score   support\\n\\n           0       1.00      1.00      1.00       360\\n           1       1.00      1.00      1.00       457\\n           2       1.00      1.00      1.00       623\\n\\n    accuracy                           1.00      1440\\n   macro avg       1.00      1.00      1.00      1440\\nweighted avg       1.00      1.00      1.00      1440\\n'"
      ]
     },
     "execution_count": 159,
     "metadata": {},
     "output_type": "execute_result"
    }
   ],
   "source": [
    "# Classification Report для полного анализа метрик precision, recall и f1-score\n",
    "classification_report(y_test, y_pred)"
   ]
  },
  {
   "cell_type": "code",
   "execution_count": 166,
   "id": "1238c4f2-793a-418e-a36e-1dd5e32a8706",
   "metadata": {},
   "outputs": [
    {
     "data": {
      "text/plain": [
       "array([[360,   0,   0],\n",
       "       [  0, 457,   0],\n",
       "       [  0,   0, 623]])"
      ]
     },
     "execution_count": 166,
     "metadata": {},
     "output_type": "execute_result"
    }
   ],
   "source": [
    "# Матрица ошибок (Confusion Matrix) для визуализации количества правильных и неправильных прогнозов\n",
    "confusion_matrix(y_test, y_pred)"
   ]
  },
  {
   "cell_type": "markdown",
   "id": "8619d823-c6d7-472a-8c06-8134c5abee35",
   "metadata": {},
   "source": [
    "***Вывод:\n",
    "1. Мы выбрали довольно простой пример и по сути линейную регрессию, которая на 5% ручной разметки дала результат,\n",
    "аналогичный разметке по правилу.\n",
    "2. Модель обучилась идеально (accuracy = 1), можно использовать правило и модель для разметки.***"
   ]
  }
 ],
 "metadata": {
  "kernelspec": {
   "display_name": "Python 3 (ipykernel)",
   "language": "python",
   "name": "python3"
  },
  "language_info": {
   "codemirror_mode": {
    "name": "ipython",
    "version": 3
   },
   "file_extension": ".py",
   "mimetype": "text/x-python",
   "name": "python",
   "nbconvert_exporter": "python",
   "pygments_lexer": "ipython3",
   "version": "3.11.3"
  }
 },
 "nbformat": 4,
 "nbformat_minor": 5
}
