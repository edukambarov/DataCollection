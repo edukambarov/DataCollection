{
  "cells": [
    {
      "cell_type": "markdown",
      "metadata": {},
      "source": [
        "## 1. Скачайте датасет House Prices Kaggle со страницы конкурса (https://www.kaggle.com/competitions/house-prices-advanced-regression-techniques/data) и сохраните его в том же каталоге, что и ваш скрипт или блокнот Python."
      ]
    },
    {
      "cell_type": "code",
      "execution_count": null,
      "metadata": {},
      "outputs": [],
      "source": [
        "!pip install seaborn"
      ]
    },
    {
      "cell_type": "code",
      "execution_count": 147,
      "metadata": {},
      "outputs": [],
      "source": [
        "import pandas as pd\n",
        "import numpy as np\n",
        "import matplotlib.pyplot as plt\n",
        "import seaborn as sns"
      ]
    },
    {
      "cell_type": "markdown",
      "metadata": {},
      "source": [
        "## 2. Загрузите датасет в pandas DataFrame под названием df."
      ]
    },
    {
      "cell_type": "code",
      "execution_count": 84,
      "metadata": {
        "colab": {
          "base_uri": "https://localhost:8080/",
          "height": 256
        },
        "id": "S5NksdENfJWv",
        "outputId": "b1803ee1-c4cd-4a5a-df18-5b54eafc1628"
      },
      "outputs": [
        {
          "data": {
            "text/html": [
              "<div>\n",
              "<style scoped>\n",
              "    .dataframe tbody tr th:only-of-type {\n",
              "        vertical-align: middle;\n",
              "    }\n",
              "\n",
              "    .dataframe tbody tr th {\n",
              "        vertical-align: top;\n",
              "    }\n",
              "\n",
              "    .dataframe thead th {\n",
              "        text-align: right;\n",
              "    }\n",
              "</style>\n",
              "<table border=\"1\" class=\"dataframe\">\n",
              "  <thead>\n",
              "    <tr style=\"text-align: right;\">\n",
              "      <th></th>\n",
              "      <th>Id</th>\n",
              "      <th>MSSubClass</th>\n",
              "      <th>MSZoning</th>\n",
              "      <th>LotFrontage</th>\n",
              "      <th>LotArea</th>\n",
              "      <th>Street</th>\n",
              "      <th>Alley</th>\n",
              "      <th>LotShape</th>\n",
              "      <th>LandContour</th>\n",
              "      <th>Utilities</th>\n",
              "      <th>...</th>\n",
              "      <th>PoolArea</th>\n",
              "      <th>PoolQC</th>\n",
              "      <th>Fence</th>\n",
              "      <th>MiscFeature</th>\n",
              "      <th>MiscVal</th>\n",
              "      <th>MoSold</th>\n",
              "      <th>YrSold</th>\n",
              "      <th>SaleType</th>\n",
              "      <th>SaleCondition</th>\n",
              "      <th>SalePrice</th>\n",
              "    </tr>\n",
              "  </thead>\n",
              "  <tbody>\n",
              "    <tr>\n",
              "      <th>0</th>\n",
              "      <td>1</td>\n",
              "      <td>60</td>\n",
              "      <td>RL</td>\n",
              "      <td>65.0</td>\n",
              "      <td>8450</td>\n",
              "      <td>Pave</td>\n",
              "      <td>NaN</td>\n",
              "      <td>Reg</td>\n",
              "      <td>Lvl</td>\n",
              "      <td>AllPub</td>\n",
              "      <td>...</td>\n",
              "      <td>0</td>\n",
              "      <td>NaN</td>\n",
              "      <td>NaN</td>\n",
              "      <td>NaN</td>\n",
              "      <td>0</td>\n",
              "      <td>2</td>\n",
              "      <td>2008</td>\n",
              "      <td>WD</td>\n",
              "      <td>Normal</td>\n",
              "      <td>208500</td>\n",
              "    </tr>\n",
              "    <tr>\n",
              "      <th>1</th>\n",
              "      <td>2</td>\n",
              "      <td>20</td>\n",
              "      <td>RL</td>\n",
              "      <td>80.0</td>\n",
              "      <td>9600</td>\n",
              "      <td>Pave</td>\n",
              "      <td>NaN</td>\n",
              "      <td>Reg</td>\n",
              "      <td>Lvl</td>\n",
              "      <td>AllPub</td>\n",
              "      <td>...</td>\n",
              "      <td>0</td>\n",
              "      <td>NaN</td>\n",
              "      <td>NaN</td>\n",
              "      <td>NaN</td>\n",
              "      <td>0</td>\n",
              "      <td>5</td>\n",
              "      <td>2007</td>\n",
              "      <td>WD</td>\n",
              "      <td>Normal</td>\n",
              "      <td>181500</td>\n",
              "    </tr>\n",
              "    <tr>\n",
              "      <th>2</th>\n",
              "      <td>3</td>\n",
              "      <td>60</td>\n",
              "      <td>RL</td>\n",
              "      <td>68.0</td>\n",
              "      <td>11250</td>\n",
              "      <td>Pave</td>\n",
              "      <td>NaN</td>\n",
              "      <td>IR1</td>\n",
              "      <td>Lvl</td>\n",
              "      <td>AllPub</td>\n",
              "      <td>...</td>\n",
              "      <td>0</td>\n",
              "      <td>NaN</td>\n",
              "      <td>NaN</td>\n",
              "      <td>NaN</td>\n",
              "      <td>0</td>\n",
              "      <td>9</td>\n",
              "      <td>2008</td>\n",
              "      <td>WD</td>\n",
              "      <td>Normal</td>\n",
              "      <td>223500</td>\n",
              "    </tr>\n",
              "    <tr>\n",
              "      <th>3</th>\n",
              "      <td>4</td>\n",
              "      <td>70</td>\n",
              "      <td>RL</td>\n",
              "      <td>60.0</td>\n",
              "      <td>9550</td>\n",
              "      <td>Pave</td>\n",
              "      <td>NaN</td>\n",
              "      <td>IR1</td>\n",
              "      <td>Lvl</td>\n",
              "      <td>AllPub</td>\n",
              "      <td>...</td>\n",
              "      <td>0</td>\n",
              "      <td>NaN</td>\n",
              "      <td>NaN</td>\n",
              "      <td>NaN</td>\n",
              "      <td>0</td>\n",
              "      <td>2</td>\n",
              "      <td>2006</td>\n",
              "      <td>WD</td>\n",
              "      <td>Abnorml</td>\n",
              "      <td>140000</td>\n",
              "    </tr>\n",
              "    <tr>\n",
              "      <th>4</th>\n",
              "      <td>5</td>\n",
              "      <td>60</td>\n",
              "      <td>RL</td>\n",
              "      <td>84.0</td>\n",
              "      <td>14260</td>\n",
              "      <td>Pave</td>\n",
              "      <td>NaN</td>\n",
              "      <td>IR1</td>\n",
              "      <td>Lvl</td>\n",
              "      <td>AllPub</td>\n",
              "      <td>...</td>\n",
              "      <td>0</td>\n",
              "      <td>NaN</td>\n",
              "      <td>NaN</td>\n",
              "      <td>NaN</td>\n",
              "      <td>0</td>\n",
              "      <td>12</td>\n",
              "      <td>2008</td>\n",
              "      <td>WD</td>\n",
              "      <td>Normal</td>\n",
              "      <td>250000</td>\n",
              "    </tr>\n",
              "  </tbody>\n",
              "</table>\n",
              "<p>5 rows × 81 columns</p>\n",
              "</div>"
            ],
            "text/plain": [
              "   Id  MSSubClass MSZoning  LotFrontage  LotArea Street Alley LotShape  \\\n",
              "0   1          60       RL         65.0     8450   Pave   NaN      Reg   \n",
              "1   2          20       RL         80.0     9600   Pave   NaN      Reg   \n",
              "2   3          60       RL         68.0    11250   Pave   NaN      IR1   \n",
              "3   4          70       RL         60.0     9550   Pave   NaN      IR1   \n",
              "4   5          60       RL         84.0    14260   Pave   NaN      IR1   \n",
              "\n",
              "  LandContour Utilities  ... PoolArea PoolQC Fence MiscFeature MiscVal MoSold  \\\n",
              "0         Lvl    AllPub  ...        0    NaN   NaN         NaN       0      2   \n",
              "1         Lvl    AllPub  ...        0    NaN   NaN         NaN       0      5   \n",
              "2         Lvl    AllPub  ...        0    NaN   NaN         NaN       0      9   \n",
              "3         Lvl    AllPub  ...        0    NaN   NaN         NaN       0      2   \n",
              "4         Lvl    AllPub  ...        0    NaN   NaN         NaN       0     12   \n",
              "\n",
              "  YrSold  SaleType  SaleCondition  SalePrice  \n",
              "0   2008        WD         Normal     208500  \n",
              "1   2007        WD         Normal     181500  \n",
              "2   2008        WD         Normal     223500  \n",
              "3   2006        WD        Abnorml     140000  \n",
              "4   2008        WD         Normal     250000  \n",
              "\n",
              "[5 rows x 81 columns]"
            ]
          },
          "execution_count": 84,
          "metadata": {},
          "output_type": "execute_result"
        }
      ],
      "source": [
        "df = pd.read_csv('train.csv')\n",
        "\n",
        "\n",
        "df.head()"
      ]
    },
    {
      "cell_type": "code",
      "execution_count": 85,
      "metadata": {
        "colab": {
          "base_uri": "https://localhost:8080/"
        },
        "id": "9T5LPjpoiXiW",
        "outputId": "a38aef85-0c9a-4c1c-8b98-eea2060b87bb"
      },
      "outputs": [
        {
          "name": "stdout",
          "output_type": "stream",
          "text": [
            "<class 'pandas.core.frame.DataFrame'>\n",
            "RangeIndex: 1460 entries, 0 to 1459\n",
            "Data columns (total 81 columns):\n",
            " #   Column         Non-Null Count  Dtype  \n",
            "---  ------         --------------  -----  \n",
            " 0   Id             1460 non-null   int64  \n",
            " 1   MSSubClass     1460 non-null   int64  \n",
            " 2   MSZoning       1460 non-null   object \n",
            " 3   LotFrontage    1201 non-null   float64\n",
            " 4   LotArea        1460 non-null   int64  \n",
            " 5   Street         1460 non-null   object \n",
            " 6   Alley          91 non-null     object \n",
            " 7   LotShape       1460 non-null   object \n",
            " 8   LandContour    1460 non-null   object \n",
            " 9   Utilities      1460 non-null   object \n",
            " 10  LotConfig      1460 non-null   object \n",
            " 11  LandSlope      1460 non-null   object \n",
            " 12  Neighborhood   1460 non-null   object \n",
            " 13  Condition1     1460 non-null   object \n",
            " 14  Condition2     1460 non-null   object \n",
            " 15  BldgType       1460 non-null   object \n",
            " 16  HouseStyle     1460 non-null   object \n",
            " 17  OverallQual    1460 non-null   int64  \n",
            " 18  OverallCond    1460 non-null   int64  \n",
            " 19  YearBuilt      1460 non-null   int64  \n",
            " 20  YearRemodAdd   1460 non-null   int64  \n",
            " 21  RoofStyle      1460 non-null   object \n",
            " 22  RoofMatl       1460 non-null   object \n",
            " 23  Exterior1st    1460 non-null   object \n",
            " 24  Exterior2nd    1460 non-null   object \n",
            " 25  MasVnrType     588 non-null    object \n",
            " 26  MasVnrArea     1452 non-null   float64\n",
            " 27  ExterQual      1460 non-null   object \n",
            " 28  ExterCond      1460 non-null   object \n",
            " 29  Foundation     1460 non-null   object \n",
            " 30  BsmtQual       1423 non-null   object \n",
            " 31  BsmtCond       1423 non-null   object \n",
            " 32  BsmtExposure   1422 non-null   object \n",
            " 33  BsmtFinType1   1423 non-null   object \n",
            " 34  BsmtFinSF1     1460 non-null   int64  \n",
            " 35  BsmtFinType2   1422 non-null   object \n",
            " 36  BsmtFinSF2     1460 non-null   int64  \n",
            " 37  BsmtUnfSF      1460 non-null   int64  \n",
            " 38  TotalBsmtSF    1460 non-null   int64  \n",
            " 39  Heating        1460 non-null   object \n",
            " 40  HeatingQC      1460 non-null   object \n",
            " 41  CentralAir     1460 non-null   object \n",
            " 42  Electrical     1459 non-null   object \n",
            " 43  1stFlrSF       1460 non-null   int64  \n",
            " 44  2ndFlrSF       1460 non-null   int64  \n",
            " 45  LowQualFinSF   1460 non-null   int64  \n",
            " 46  GrLivArea      1460 non-null   int64  \n",
            " 47  BsmtFullBath   1460 non-null   int64  \n",
            " 48  BsmtHalfBath   1460 non-null   int64  \n",
            " 49  FullBath       1460 non-null   int64  \n",
            " 50  HalfBath       1460 non-null   int64  \n",
            " 51  BedroomAbvGr   1460 non-null   int64  \n",
            " 52  KitchenAbvGr   1460 non-null   int64  \n",
            " 53  KitchenQual    1460 non-null   object \n",
            " 54  TotRmsAbvGrd   1460 non-null   int64  \n",
            " 55  Functional     1460 non-null   object \n",
            " 56  Fireplaces     1460 non-null   int64  \n",
            " 57  FireplaceQu    770 non-null    object \n",
            " 58  GarageType     1379 non-null   object \n",
            " 59  GarageYrBlt    1379 non-null   float64\n",
            " 60  GarageFinish   1379 non-null   object \n",
            " 61  GarageCars     1460 non-null   int64  \n",
            " 62  GarageArea     1460 non-null   int64  \n",
            " 63  GarageQual     1379 non-null   object \n",
            " 64  GarageCond     1379 non-null   object \n",
            " 65  PavedDrive     1460 non-null   object \n",
            " 66  WoodDeckSF     1460 non-null   int64  \n",
            " 67  OpenPorchSF    1460 non-null   int64  \n",
            " 68  EnclosedPorch  1460 non-null   int64  \n",
            " 69  3SsnPorch      1460 non-null   int64  \n",
            " 70  ScreenPorch    1460 non-null   int64  \n",
            " 71  PoolArea       1460 non-null   int64  \n",
            " 72  PoolQC         7 non-null      object \n",
            " 73  Fence          281 non-null    object \n",
            " 74  MiscFeature    54 non-null     object \n",
            " 75  MiscVal        1460 non-null   int64  \n",
            " 76  MoSold         1460 non-null   int64  \n",
            " 77  YrSold         1460 non-null   int64  \n",
            " 78  SaleType       1460 non-null   object \n",
            " 79  SaleCondition  1460 non-null   object \n",
            " 80  SalePrice      1460 non-null   int64  \n",
            "dtypes: float64(3), int64(35), object(43)\n",
            "memory usage: 924.0+ KB\n"
          ]
        }
      ],
      "source": [
        "df.info()"
      ]
    },
    {
      "cell_type": "markdown",
      "metadata": {},
      "source": [
        "## 3. Выполните предварительную обработку данных, выполнив следующие шаги: a. Определите и обработайте отсутствующие значения в датасете. Определите, в каких столбцах есть отсутствующие значения, и решите, как их обработать (например, заполнить средним, медианой или модой, или отбросить столбцы/строки с существенными отсутствующими значениями). b. Проверьте и обработайте любые дублирующиеся строки в датасете. c. Проанализируйте типы данных в каждом столбце и при необходимости преобразуйте их (например, из объектных в числовые типы)."
      ]
    },
    {
      "cell_type": "code",
      "execution_count": 86,
      "metadata": {
        "colab": {
          "base_uri": "https://localhost:8080/"
        },
        "id": "Df_lRx3YfJZB",
        "outputId": "563f7cb3-9523-4e96-f25e-57ad119a3388"
      },
      "outputs": [
        {
          "data": {
            "text/plain": [
              "Id                 0\n",
              "MSSubClass         0\n",
              "MSZoning           0\n",
              "LotFrontage      259\n",
              "LotArea            0\n",
              "                ... \n",
              "MoSold             0\n",
              "YrSold             0\n",
              "SaleType           0\n",
              "SaleCondition      0\n",
              "SalePrice          0\n",
              "Length: 81, dtype: int64"
            ]
          },
          "execution_count": 86,
          "metadata": {},
          "output_type": "execute_result"
        }
      ],
      "source": [
        "# Определение отсутствующих значений\n",
        "df.isnull().sum()"
      ]
    },
    {
      "cell_type": "markdown",
      "metadata": {},
      "source": [
        "### LotFrontage"
      ]
    },
    {
      "cell_type": "code",
      "execution_count": 87,
      "metadata": {},
      "outputs": [
        {
          "name": "stdout",
          "output_type": "stream",
          "text": [
            "<class 'pandas.core.series.Series'>\n",
            "RangeIndex: 1460 entries, 0 to 1459\n",
            "Series name: LotFrontage\n",
            "Non-Null Count  Dtype  \n",
            "--------------  -----  \n",
            "1201 non-null   float64\n",
            "dtypes: float64(1)\n",
            "memory usage: 11.5 KB\n"
          ]
        },
        {
          "data": {
            "text/plain": [
              "array([ 65.,  80.,  68.,  60.,  84.,  85.,  75.,  nan,  51.,  50.,  70.,\n",
              "        91.,  72.,  66., 101.,  57.,  44., 110.,  98.,  47., 108., 112.,\n",
              "        74., 115.,  61.,  48.,  33.,  52., 100.,  24.,  89.,  63.,  76.,\n",
              "        81.,  95.,  69.,  21.,  32.,  78., 121., 122.,  40., 105.,  73.,\n",
              "        77.,  64.,  94.,  34.,  90.,  55.,  88.,  82.,  71., 120., 107.,\n",
              "        92., 134.,  62.,  86., 141.,  97.,  54.,  41.,  79., 174.,  99.,\n",
              "        67.,  83.,  43., 103.,  93.,  30., 129., 140.,  35.,  37., 118.,\n",
              "        87., 116., 150., 111.,  49.,  96.,  59.,  36.,  56., 102.,  58.,\n",
              "        38., 109., 130.,  53., 137.,  45., 106., 104.,  42.,  39., 144.,\n",
              "       114., 128., 149., 313., 168., 182., 138., 160., 152., 124., 153.,\n",
              "        46.])"
            ]
          },
          "execution_count": 87,
          "metadata": {},
          "output_type": "execute_result"
        }
      ],
      "source": [
        "# Определить тип данных и уникальные значения в столбце \"LotFrontage\" (Длина фасада)\n",
        "df['LotFrontage'].info()\n",
        "df['LotFrontage'].unique()"
      ]
    },
    {
      "cell_type": "code",
      "execution_count": 88,
      "metadata": {},
      "outputs": [],
      "source": [
        "#Заполним пустые ячейки среднеми значениями\n",
        "df['LotFrontage'].fillna(df['LotFrontage'].mean(), inplace=True)"
      ]
    },
    {
      "cell_type": "code",
      "execution_count": 89,
      "metadata": {},
      "outputs": [
        {
          "data": {
            "text/plain": [
              "array([ 65.        ,  80.        ,  68.        ,  60.        ,\n",
              "        84.        ,  85.        ,  75.        ,  70.04995837,\n",
              "        51.        ,  50.        ,  70.        ,  91.        ,\n",
              "        72.        ,  66.        , 101.        ,  57.        ,\n",
              "        44.        , 110.        ,  98.        ,  47.        ,\n",
              "       108.        , 112.        ,  74.        , 115.        ,\n",
              "        61.        ,  48.        ,  33.        ,  52.        ,\n",
              "       100.        ,  24.        ,  89.        ,  63.        ,\n",
              "        76.        ,  81.        ,  95.        ,  69.        ,\n",
              "        21.        ,  32.        ,  78.        , 121.        ,\n",
              "       122.        ,  40.        , 105.        ,  73.        ,\n",
              "        77.        ,  64.        ,  94.        ,  34.        ,\n",
              "        90.        ,  55.        ,  88.        ,  82.        ,\n",
              "        71.        , 120.        , 107.        ,  92.        ,\n",
              "       134.        ,  62.        ,  86.        , 141.        ,\n",
              "        97.        ,  54.        ,  41.        ,  79.        ,\n",
              "       174.        ,  99.        ,  67.        ,  83.        ,\n",
              "        43.        , 103.        ,  93.        ,  30.        ,\n",
              "       129.        , 140.        ,  35.        ,  37.        ,\n",
              "       118.        ,  87.        , 116.        , 150.        ,\n",
              "       111.        ,  49.        ,  96.        ,  59.        ,\n",
              "        36.        ,  56.        , 102.        ,  58.        ,\n",
              "        38.        , 109.        , 130.        ,  53.        ,\n",
              "       137.        ,  45.        , 106.        , 104.        ,\n",
              "        42.        ,  39.        , 144.        , 114.        ,\n",
              "       128.        , 149.        , 313.        , 168.        ,\n",
              "       182.        , 138.        , 160.        , 152.        ,\n",
              "       124.        , 153.        ,  46.        ])"
            ]
          },
          "execution_count": 89,
          "metadata": {},
          "output_type": "execute_result"
        }
      ],
      "source": [
        "df['LotFrontage'].unique()"
      ]
    },
    {
      "cell_type": "markdown",
      "metadata": {},
      "source": [
        "### Alley"
      ]
    },
    {
      "cell_type": "code",
      "execution_count": 90,
      "metadata": {
        "colab": {
          "base_uri": "https://localhost:8080/"
        },
        "id": "Tij1cFX4fJbd",
        "outputId": "64f2e38c-5ea1-4acc-adb6-b56a250b7011"
      },
      "outputs": [
        {
          "name": "stdout",
          "output_type": "stream",
          "text": [
            "<class 'pandas.core.series.Series'>\n",
            "RangeIndex: 1460 entries, 0 to 1459\n",
            "Series name: Alley\n",
            "Non-Null Count  Dtype \n",
            "--------------  ----- \n",
            "91 non-null     object\n",
            "dtypes: object(1)\n",
            "memory usage: 11.5+ KB\n"
          ]
        },
        {
          "data": {
            "text/plain": [
              "array([nan, 'Grvl', 'Pave'], dtype=object)"
            ]
          },
          "execution_count": 90,
          "metadata": {},
          "output_type": "execute_result"
        }
      ],
      "source": [
        "# Определить тип данных и уникальные значения в столбце \"Alley\"\n",
        "df['Alley'].info()\n",
        "df['Alley'].unique()"
      ]
    },
    {
      "cell_type": "code",
      "execution_count": 91,
      "metadata": {
        "id": "8yvUig1zEKGx"
      },
      "outputs": [],
      "source": [
        "# В связи с тем, что аллеи есть не во всех адресах, заполним пустые ячейки значением \"No Alley\"\n",
        "df['Alley'] = df['Alley'].fillna(\"None Alley\")"
      ]
    },
    {
      "cell_type": "markdown",
      "metadata": {},
      "source": [
        "### MasVnrType"
      ]
    },
    {
      "cell_type": "code",
      "execution_count": 92,
      "metadata": {
        "colab": {
          "base_uri": "https://localhost:8080/"
        },
        "id": "iAiy4MpFub1f",
        "outputId": "2ca8c8ea-9e96-44d4-85d6-d99f59bec867"
      },
      "outputs": [
        {
          "name": "stdout",
          "output_type": "stream",
          "text": [
            "<class 'pandas.core.series.Series'>\n",
            "RangeIndex: 1460 entries, 0 to 1459\n",
            "Series name: MasVnrType\n",
            "Non-Null Count  Dtype \n",
            "--------------  ----- \n",
            "588 non-null    object\n",
            "dtypes: object(1)\n",
            "memory usage: 11.5+ KB\n"
          ]
        },
        {
          "data": {
            "text/plain": [
              "array(['BrkFace', nan, 'Stone', 'BrkCmn'], dtype=object)"
            ]
          },
          "execution_count": 92,
          "metadata": {},
          "output_type": "execute_result"
        }
      ],
      "source": [
        "# Определить тип данных и уникальные значения в столбце \"MasVnrType\" Тип облицовки каменной кладки\n",
        "df['MasVnrType'].info()\n",
        "df['MasVnrType'].unique()"
      ]
    },
    {
      "cell_type": "code",
      "execution_count": 93,
      "metadata": {
        "id": "7WTf1I1UEzh8"
      },
      "outputs": [],
      "source": [
        "#Заполним пустые ячейки значением \"None\"\n",
        "df['MasVnrType'] = df['MasVnrType'].fillna('None')"
      ]
    },
    {
      "cell_type": "markdown",
      "metadata": {},
      "source": [
        "### MasVnrArea"
      ]
    },
    {
      "cell_type": "code",
      "execution_count": 94,
      "metadata": {
        "colab": {
          "base_uri": "https://localhost:8080/"
        },
        "id": "6cmjstD6ucAn",
        "outputId": "f6a494b1-69d2-441a-9a2e-6b5456c7ceaa"
      },
      "outputs": [
        {
          "name": "stdout",
          "output_type": "stream",
          "text": [
            "<class 'pandas.core.series.Series'>\n",
            "RangeIndex: 1460 entries, 0 to 1459\n",
            "Series name: MasVnrArea\n",
            "Non-Null Count  Dtype  \n",
            "--------------  -----  \n",
            "1452 non-null   float64\n",
            "dtypes: float64(1)\n",
            "memory usage: 11.5 KB\n"
          ]
        },
        {
          "data": {
            "text/plain": [
              "array([1.960e+02, 0.000e+00, 1.620e+02, 3.500e+02, 1.860e+02, 2.400e+02,\n",
              "       2.860e+02, 3.060e+02, 2.120e+02, 1.800e+02, 3.800e+02, 2.810e+02,\n",
              "       6.400e+02, 2.000e+02, 2.460e+02, 1.320e+02, 6.500e+02, 1.010e+02,\n",
              "       4.120e+02, 2.720e+02, 4.560e+02, 1.031e+03, 1.780e+02, 5.730e+02,\n",
              "       3.440e+02, 2.870e+02, 1.670e+02, 1.115e+03, 4.000e+01, 1.040e+02,\n",
              "       5.760e+02, 4.430e+02, 4.680e+02, 6.600e+01, 2.200e+01, 2.840e+02,\n",
              "       7.600e+01, 2.030e+02, 6.800e+01, 1.830e+02, 4.800e+01, 2.800e+01,\n",
              "       3.360e+02, 6.000e+02, 7.680e+02, 4.800e+02, 2.200e+02, 1.840e+02,\n",
              "       1.129e+03, 1.160e+02, 1.350e+02, 2.660e+02, 8.500e+01, 3.090e+02,\n",
              "       1.360e+02, 2.880e+02, 7.000e+01, 3.200e+02, 5.000e+01, 1.200e+02,\n",
              "       4.360e+02, 2.520e+02, 8.400e+01, 6.640e+02, 2.260e+02, 3.000e+02,\n",
              "       6.530e+02, 1.120e+02, 4.910e+02, 2.680e+02, 7.480e+02, 9.800e+01,\n",
              "       2.750e+02, 1.380e+02, 2.050e+02, 2.620e+02, 1.280e+02, 2.600e+02,\n",
              "       1.530e+02, 6.400e+01, 3.120e+02, 1.600e+01, 9.220e+02, 1.420e+02,\n",
              "       2.900e+02, 1.270e+02, 5.060e+02, 2.970e+02,       nan, 6.040e+02,\n",
              "       2.540e+02, 3.600e+01, 1.020e+02, 4.720e+02, 4.810e+02, 1.080e+02,\n",
              "       3.020e+02, 1.720e+02, 3.990e+02, 2.700e+02, 4.600e+01, 2.100e+02,\n",
              "       1.740e+02, 3.480e+02, 3.150e+02, 2.990e+02, 3.400e+02, 1.660e+02,\n",
              "       7.200e+01, 3.100e+01, 3.400e+01, 2.380e+02, 1.600e+03, 3.650e+02,\n",
              "       5.600e+01, 1.500e+02, 2.780e+02, 2.560e+02, 2.250e+02, 3.700e+02,\n",
              "       3.880e+02, 1.750e+02, 2.960e+02, 1.460e+02, 1.130e+02, 1.760e+02,\n",
              "       6.160e+02, 3.000e+01, 1.060e+02, 8.700e+02, 3.620e+02, 5.300e+02,\n",
              "       5.000e+02, 5.100e+02, 2.470e+02, 3.050e+02, 2.550e+02, 1.250e+02,\n",
              "       1.000e+02, 4.320e+02, 1.260e+02, 4.730e+02, 7.400e+01, 1.450e+02,\n",
              "       2.320e+02, 3.760e+02, 4.200e+01, 1.610e+02, 1.100e+02, 1.800e+01,\n",
              "       2.240e+02, 2.480e+02, 8.000e+01, 3.040e+02, 2.150e+02, 7.720e+02,\n",
              "       4.350e+02, 3.780e+02, 5.620e+02, 1.680e+02, 8.900e+01, 2.850e+02,\n",
              "       3.600e+02, 9.400e+01, 3.330e+02, 9.210e+02, 7.620e+02, 5.940e+02,\n",
              "       2.190e+02, 1.880e+02, 4.790e+02, 5.840e+02, 1.820e+02, 2.500e+02,\n",
              "       2.920e+02, 2.450e+02, 2.070e+02, 8.200e+01, 9.700e+01, 3.350e+02,\n",
              "       2.080e+02, 4.200e+02, 1.700e+02, 4.590e+02, 2.800e+02, 9.900e+01,\n",
              "       1.920e+02, 2.040e+02, 2.330e+02, 1.560e+02, 4.520e+02, 5.130e+02,\n",
              "       2.610e+02, 1.640e+02, 2.590e+02, 2.090e+02, 2.630e+02, 2.160e+02,\n",
              "       3.510e+02, 6.600e+02, 3.810e+02, 5.400e+01, 5.280e+02, 2.580e+02,\n",
              "       4.640e+02, 5.700e+01, 1.470e+02, 1.170e+03, 2.930e+02, 6.300e+02,\n",
              "       4.660e+02, 1.090e+02, 4.100e+01, 1.600e+02, 2.890e+02, 6.510e+02,\n",
              "       1.690e+02, 9.500e+01, 4.420e+02, 2.020e+02, 3.380e+02, 8.940e+02,\n",
              "       3.280e+02, 6.730e+02, 6.030e+02, 1.000e+00, 3.750e+02, 9.000e+01,\n",
              "       3.800e+01, 1.570e+02, 1.100e+01, 1.400e+02, 1.300e+02, 1.480e+02,\n",
              "       8.600e+02, 4.240e+02, 1.047e+03, 2.430e+02, 8.160e+02, 3.870e+02,\n",
              "       2.230e+02, 1.580e+02, 1.370e+02, 1.150e+02, 1.890e+02, 2.740e+02,\n",
              "       1.170e+02, 6.000e+01, 1.220e+02, 9.200e+01, 4.150e+02, 7.600e+02,\n",
              "       2.700e+01, 7.500e+01, 3.610e+02, 1.050e+02, 3.420e+02, 2.980e+02,\n",
              "       5.410e+02, 2.360e+02, 1.440e+02, 4.230e+02, 4.400e+01, 1.510e+02,\n",
              "       9.750e+02, 4.500e+02, 2.300e+02, 5.710e+02, 2.400e+01, 5.300e+01,\n",
              "       2.060e+02, 1.400e+01, 3.240e+02, 2.950e+02, 3.960e+02, 6.700e+01,\n",
              "       1.540e+02, 4.250e+02, 4.500e+01, 1.378e+03, 3.370e+02, 1.490e+02,\n",
              "       1.430e+02, 5.100e+01, 1.710e+02, 2.340e+02, 6.300e+01, 7.660e+02,\n",
              "       3.200e+01, 8.100e+01, 1.630e+02, 5.540e+02, 2.180e+02, 6.320e+02,\n",
              "       1.140e+02, 5.670e+02, 3.590e+02, 4.510e+02, 6.210e+02, 7.880e+02,\n",
              "       8.600e+01, 7.960e+02, 3.910e+02, 2.280e+02, 8.800e+01, 1.650e+02,\n",
              "       4.280e+02, 4.100e+02, 5.640e+02, 3.680e+02, 3.180e+02, 5.790e+02,\n",
              "       6.500e+01, 7.050e+02, 4.080e+02, 2.440e+02, 1.230e+02, 3.660e+02,\n",
              "       7.310e+02, 4.480e+02, 2.940e+02, 3.100e+02, 2.370e+02, 4.260e+02,\n",
              "       9.600e+01, 4.380e+02, 1.940e+02, 1.190e+02])"
            ]
          },
          "execution_count": 94,
          "metadata": {},
          "output_type": "execute_result"
        }
      ],
      "source": [
        "# Определить тип данных и уникальные значения в столбце \"MasVnrArea\" Площадь облицовки каменной кладки в квадратных футах\n",
        "df['MasVnrArea'].info()\n",
        "df['MasVnrArea'].unique()"
      ]
    },
    {
      "cell_type": "code",
      "execution_count": 95,
      "metadata": {
        "id": "stt1qbmkyWqh"
      },
      "outputs": [],
      "source": [
        "# Заполним пустые ячейки значением 0\n",
        "df['MasVnrArea'] = df['MasVnrArea'].fillna(0)"
      ]
    },
    {
      "cell_type": "code",
      "execution_count": 96,
      "metadata": {},
      "outputs": [
        {
          "name": "stdout",
          "output_type": "stream",
          "text": [
            "<class 'pandas.core.series.Series'>\n",
            "RangeIndex: 1460 entries, 0 to 1459\n",
            "Series name: MasVnrArea\n",
            "Non-Null Count  Dtype  \n",
            "--------------  -----  \n",
            "1460 non-null   float64\n",
            "dtypes: float64(1)\n",
            "memory usage: 11.5 KB\n"
          ]
        },
        {
          "data": {
            "text/plain": [
              "array([1.960e+02, 0.000e+00, 1.620e+02, 3.500e+02, 1.860e+02, 2.400e+02,\n",
              "       2.860e+02, 3.060e+02, 2.120e+02, 1.800e+02, 3.800e+02, 2.810e+02,\n",
              "       6.400e+02, 2.000e+02, 2.460e+02, 1.320e+02, 6.500e+02, 1.010e+02,\n",
              "       4.120e+02, 2.720e+02, 4.560e+02, 1.031e+03, 1.780e+02, 5.730e+02,\n",
              "       3.440e+02, 2.870e+02, 1.670e+02, 1.115e+03, 4.000e+01, 1.040e+02,\n",
              "       5.760e+02, 4.430e+02, 4.680e+02, 6.600e+01, 2.200e+01, 2.840e+02,\n",
              "       7.600e+01, 2.030e+02, 6.800e+01, 1.830e+02, 4.800e+01, 2.800e+01,\n",
              "       3.360e+02, 6.000e+02, 7.680e+02, 4.800e+02, 2.200e+02, 1.840e+02,\n",
              "       1.129e+03, 1.160e+02, 1.350e+02, 2.660e+02, 8.500e+01, 3.090e+02,\n",
              "       1.360e+02, 2.880e+02, 7.000e+01, 3.200e+02, 5.000e+01, 1.200e+02,\n",
              "       4.360e+02, 2.520e+02, 8.400e+01, 6.640e+02, 2.260e+02, 3.000e+02,\n",
              "       6.530e+02, 1.120e+02, 4.910e+02, 2.680e+02, 7.480e+02, 9.800e+01,\n",
              "       2.750e+02, 1.380e+02, 2.050e+02, 2.620e+02, 1.280e+02, 2.600e+02,\n",
              "       1.530e+02, 6.400e+01, 3.120e+02, 1.600e+01, 9.220e+02, 1.420e+02,\n",
              "       2.900e+02, 1.270e+02, 5.060e+02, 2.970e+02, 6.040e+02, 2.540e+02,\n",
              "       3.600e+01, 1.020e+02, 4.720e+02, 4.810e+02, 1.080e+02, 3.020e+02,\n",
              "       1.720e+02, 3.990e+02, 2.700e+02, 4.600e+01, 2.100e+02, 1.740e+02,\n",
              "       3.480e+02, 3.150e+02, 2.990e+02, 3.400e+02, 1.660e+02, 7.200e+01,\n",
              "       3.100e+01, 3.400e+01, 2.380e+02, 1.600e+03, 3.650e+02, 5.600e+01,\n",
              "       1.500e+02, 2.780e+02, 2.560e+02, 2.250e+02, 3.700e+02, 3.880e+02,\n",
              "       1.750e+02, 2.960e+02, 1.460e+02, 1.130e+02, 1.760e+02, 6.160e+02,\n",
              "       3.000e+01, 1.060e+02, 8.700e+02, 3.620e+02, 5.300e+02, 5.000e+02,\n",
              "       5.100e+02, 2.470e+02, 3.050e+02, 2.550e+02, 1.250e+02, 1.000e+02,\n",
              "       4.320e+02, 1.260e+02, 4.730e+02, 7.400e+01, 1.450e+02, 2.320e+02,\n",
              "       3.760e+02, 4.200e+01, 1.610e+02, 1.100e+02, 1.800e+01, 2.240e+02,\n",
              "       2.480e+02, 8.000e+01, 3.040e+02, 2.150e+02, 7.720e+02, 4.350e+02,\n",
              "       3.780e+02, 5.620e+02, 1.680e+02, 8.900e+01, 2.850e+02, 3.600e+02,\n",
              "       9.400e+01, 3.330e+02, 9.210e+02, 7.620e+02, 5.940e+02, 2.190e+02,\n",
              "       1.880e+02, 4.790e+02, 5.840e+02, 1.820e+02, 2.500e+02, 2.920e+02,\n",
              "       2.450e+02, 2.070e+02, 8.200e+01, 9.700e+01, 3.350e+02, 2.080e+02,\n",
              "       4.200e+02, 1.700e+02, 4.590e+02, 2.800e+02, 9.900e+01, 1.920e+02,\n",
              "       2.040e+02, 2.330e+02, 1.560e+02, 4.520e+02, 5.130e+02, 2.610e+02,\n",
              "       1.640e+02, 2.590e+02, 2.090e+02, 2.630e+02, 2.160e+02, 3.510e+02,\n",
              "       6.600e+02, 3.810e+02, 5.400e+01, 5.280e+02, 2.580e+02, 4.640e+02,\n",
              "       5.700e+01, 1.470e+02, 1.170e+03, 2.930e+02, 6.300e+02, 4.660e+02,\n",
              "       1.090e+02, 4.100e+01, 1.600e+02, 2.890e+02, 6.510e+02, 1.690e+02,\n",
              "       9.500e+01, 4.420e+02, 2.020e+02, 3.380e+02, 8.940e+02, 3.280e+02,\n",
              "       6.730e+02, 6.030e+02, 1.000e+00, 3.750e+02, 9.000e+01, 3.800e+01,\n",
              "       1.570e+02, 1.100e+01, 1.400e+02, 1.300e+02, 1.480e+02, 8.600e+02,\n",
              "       4.240e+02, 1.047e+03, 2.430e+02, 8.160e+02, 3.870e+02, 2.230e+02,\n",
              "       1.580e+02, 1.370e+02, 1.150e+02, 1.890e+02, 2.740e+02, 1.170e+02,\n",
              "       6.000e+01, 1.220e+02, 9.200e+01, 4.150e+02, 7.600e+02, 2.700e+01,\n",
              "       7.500e+01, 3.610e+02, 1.050e+02, 3.420e+02, 2.980e+02, 5.410e+02,\n",
              "       2.360e+02, 1.440e+02, 4.230e+02, 4.400e+01, 1.510e+02, 9.750e+02,\n",
              "       4.500e+02, 2.300e+02, 5.710e+02, 2.400e+01, 5.300e+01, 2.060e+02,\n",
              "       1.400e+01, 3.240e+02, 2.950e+02, 3.960e+02, 6.700e+01, 1.540e+02,\n",
              "       4.250e+02, 4.500e+01, 1.378e+03, 3.370e+02, 1.490e+02, 1.430e+02,\n",
              "       5.100e+01, 1.710e+02, 2.340e+02, 6.300e+01, 7.660e+02, 3.200e+01,\n",
              "       8.100e+01, 1.630e+02, 5.540e+02, 2.180e+02, 6.320e+02, 1.140e+02,\n",
              "       5.670e+02, 3.590e+02, 4.510e+02, 6.210e+02, 7.880e+02, 8.600e+01,\n",
              "       7.960e+02, 3.910e+02, 2.280e+02, 8.800e+01, 1.650e+02, 4.280e+02,\n",
              "       4.100e+02, 5.640e+02, 3.680e+02, 3.180e+02, 5.790e+02, 6.500e+01,\n",
              "       7.050e+02, 4.080e+02, 2.440e+02, 1.230e+02, 3.660e+02, 7.310e+02,\n",
              "       4.480e+02, 2.940e+02, 3.100e+02, 2.370e+02, 4.260e+02, 9.600e+01,\n",
              "       4.380e+02, 1.940e+02, 1.190e+02])"
            ]
          },
          "execution_count": 96,
          "metadata": {},
          "output_type": "execute_result"
        }
      ],
      "source": [
        "df['MasVnrArea'].info()\n",
        "df['MasVnrArea'].unique()"
      ]
    },
    {
      "cell_type": "markdown",
      "metadata": {},
      "source": [
        "### BsmtQual"
      ]
    },
    {
      "cell_type": "code",
      "execution_count": 98,
      "metadata": {
        "colab": {
          "base_uri": "https://localhost:8080/"
        },
        "id": "DRvizMhLucHY",
        "outputId": "51f81cca-1599-4b50-a0da-7ba2b9ec1441"
      },
      "outputs": [
        {
          "name": "stdout",
          "output_type": "stream",
          "text": [
            "<class 'pandas.core.series.Series'>\n",
            "RangeIndex: 1460 entries, 0 to 1459\n",
            "Series name: BsmtQual\n",
            "Non-Null Count  Dtype \n",
            "--------------  ----- \n",
            "1423 non-null   object\n",
            "dtypes: object(1)\n",
            "memory usage: 11.5+ KB\n"
          ]
        },
        {
          "data": {
            "text/plain": [
              "array(['Gd', 'TA', 'Ex', nan, 'Fa'], dtype=object)"
            ]
          },
          "execution_count": 98,
          "metadata": {},
          "output_type": "execute_result"
        }
      ],
      "source": [
        "# Определить тип данных и уникальные значения в столбце \"BsmtQual\" Высота подвала\n",
        "df['BsmtQual'].info()\n",
        "df['BsmtQual'].unique()"
      ]
    },
    {
      "cell_type": "code",
      "execution_count": 99,
      "metadata": {
        "id": "nSSRJQcr_3Tk"
      },
      "outputs": [],
      "source": [
        "# Заполним пустые ячейки значением \"No Basement\"\n",
        "df['BsmtQual'] = df['BsmtQual'].fillna('No Basement')"
      ]
    },
    {
      "cell_type": "markdown",
      "metadata": {},
      "source": [
        "### BsmtCond"
      ]
    },
    {
      "cell_type": "code",
      "execution_count": 100,
      "metadata": {
        "colab": {
          "base_uri": "https://localhost:8080/"
        },
        "id": "qd4MqszPuwtb",
        "outputId": "22ecf5b4-87be-4989-e7ce-f36584cb861c"
      },
      "outputs": [
        {
          "name": "stdout",
          "output_type": "stream",
          "text": [
            "<class 'pandas.core.series.Series'>\n",
            "RangeIndex: 1460 entries, 0 to 1459\n",
            "Series name: BsmtCond\n",
            "Non-Null Count  Dtype \n",
            "--------------  ----- \n",
            "1423 non-null   object\n",
            "dtypes: object(1)\n",
            "memory usage: 11.5+ KB\n"
          ]
        },
        {
          "data": {
            "text/plain": [
              "array(['TA', 'Gd', nan, 'Fa', 'Po'], dtype=object)"
            ]
          },
          "execution_count": 100,
          "metadata": {},
          "output_type": "execute_result"
        }
      ],
      "source": [
        "# Определить тип данных и уникальные значения в столбце \"BsmtCond\" Общее состояние подвала\n",
        "df['BsmtCond'].info()\n",
        "df['BsmtCond'].unique()"
      ]
    },
    {
      "cell_type": "code",
      "execution_count": 101,
      "metadata": {
        "id": "U_qZKTZhBhBu"
      },
      "outputs": [],
      "source": [
        "# Заполним пустые ячейки значением \"No Basement\"\n",
        "df['BsmtCond'] = df['BsmtCond'].fillna('No Basement')"
      ]
    },
    {
      "cell_type": "markdown",
      "metadata": {},
      "source": [
        "### BsmtExposure"
      ]
    },
    {
      "cell_type": "code",
      "execution_count": 102,
      "metadata": {
        "colab": {
          "base_uri": "https://localhost:8080/"
        },
        "id": "25ilk7jquwwG",
        "outputId": "cdaf6dc4-bd89-4396-ae4b-ee77a9bf35a0"
      },
      "outputs": [
        {
          "name": "stdout",
          "output_type": "stream",
          "text": [
            "<class 'pandas.core.series.Series'>\n",
            "RangeIndex: 1460 entries, 0 to 1459\n",
            "Series name: BsmtExposure\n",
            "Non-Null Count  Dtype \n",
            "--------------  ----- \n",
            "1422 non-null   object\n",
            "dtypes: object(1)\n",
            "memory usage: 11.5+ KB\n"
          ]
        },
        {
          "data": {
            "text/plain": [
              "array(['No', 'Gd', 'Mn', 'Av', nan], dtype=object)"
            ]
          },
          "execution_count": 102,
          "metadata": {},
          "output_type": "execute_result"
        }
      ],
      "source": [
        "# Определить тип данных и уникальные значения в столбце \"BsmtExposure\" стены на уровне пешеходной дорожки или сада\n",
        "df['BsmtExposure'].info()\n",
        "df['BsmtExposure'].unique()"
      ]
    },
    {
      "cell_type": "code",
      "execution_count": 103,
      "metadata": {
        "id": "okSa6pTTDgUG"
      },
      "outputs": [],
      "source": [
        "# Заполним пустые ячейки значением \"No Basement\"\n",
        "df['BsmtExposure'] = df['BsmtExposure'].fillna('No Basement')"
      ]
    },
    {
      "cell_type": "markdown",
      "metadata": {},
      "source": [
        "### BsmtFinType1"
      ]
    },
    {
      "cell_type": "code",
      "execution_count": 104,
      "metadata": {
        "colab": {
          "base_uri": "https://localhost:8080/"
        },
        "id": "K2RcnSR6uwyz",
        "outputId": "4911312f-f9cf-404c-a740-3d521a6970f2"
      },
      "outputs": [
        {
          "name": "stdout",
          "output_type": "stream",
          "text": [
            "<class 'pandas.core.series.Series'>\n",
            "RangeIndex: 1460 entries, 0 to 1459\n",
            "Series name: BsmtFinType1\n",
            "Non-Null Count  Dtype \n",
            "--------------  ----- \n",
            "1423 non-null   object\n",
            "dtypes: object(1)\n",
            "memory usage: 11.5+ KB\n"
          ]
        },
        {
          "data": {
            "text/plain": [
              "array(['GLQ', 'ALQ', 'Unf', 'Rec', 'BLQ', nan, 'LwQ'], dtype=object)"
            ]
          },
          "execution_count": 104,
          "metadata": {},
          "output_type": "execute_result"
        }
      ],
      "source": [
        "# Определить тип данных и уникальные значения в столбце \"BsmtFinType1\" Оценка готовой площади подвала\n",
        "df['BsmtFinType1'].info()\n",
        "df['BsmtFinType1'].unique()"
      ]
    },
    {
      "cell_type": "code",
      "execution_count": 105,
      "metadata": {
        "id": "T7V1tqLjJZA4"
      },
      "outputs": [],
      "source": [
        "# Заполним пустые ячейки значением \"No Basement\"\n",
        "df['BsmtFinType1'] = df['BsmtFinType1'].fillna('No Basement')"
      ]
    },
    {
      "cell_type": "markdown",
      "metadata": {},
      "source": [
        "### BsmtFinType2"
      ]
    },
    {
      "cell_type": "code",
      "execution_count": 106,
      "metadata": {
        "colab": {
          "base_uri": "https://localhost:8080/"
        },
        "id": "P-ISCbWWTVF8",
        "outputId": "281c8cbf-dc20-4800-a458-d38d436446a5"
      },
      "outputs": [
        {
          "name": "stdout",
          "output_type": "stream",
          "text": [
            "<class 'pandas.core.series.Series'>\n",
            "RangeIndex: 1460 entries, 0 to 1459\n",
            "Series name: BsmtFinType2\n",
            "Non-Null Count  Dtype \n",
            "--------------  ----- \n",
            "1422 non-null   object\n",
            "dtypes: object(1)\n",
            "memory usage: 11.5+ KB\n"
          ]
        },
        {
          "data": {
            "text/plain": [
              "array(['Unf', 'BLQ', nan, 'ALQ', 'Rec', 'LwQ', 'GLQ'], dtype=object)"
            ]
          },
          "execution_count": 106,
          "metadata": {},
          "output_type": "execute_result"
        }
      ],
      "source": [
        "# Определить тип данных и уникальные значения в столбце \"BsmtFinType2\" Оценка готовой площади подвала (при наличии нескольких типов)\n",
        "df['BsmtFinType2'].info()\n",
        "df['BsmtFinType2'].unique()\n"
      ]
    },
    {
      "cell_type": "code",
      "execution_count": 107,
      "metadata": {
        "id": "5TjMbaukTtoT"
      },
      "outputs": [],
      "source": [
        "# Заполним пустые ячейки значением \"No Basement\"\n",
        "df['BsmtFinType2'] = df['BsmtFinType2'].fillna('No Basement')"
      ]
    },
    {
      "cell_type": "markdown",
      "metadata": {},
      "source": [
        "### Electrical"
      ]
    },
    {
      "cell_type": "code",
      "execution_count": 108,
      "metadata": {
        "colab": {
          "base_uri": "https://localhost:8080/"
        },
        "id": "b10yYsc6uw1P",
        "outputId": "0cf4fbe7-d081-4ec0-88a8-f0dfaacbbc94"
      },
      "outputs": [
        {
          "name": "stdout",
          "output_type": "stream",
          "text": [
            "<class 'pandas.core.series.Series'>\n",
            "RangeIndex: 1460 entries, 0 to 1459\n",
            "Series name: Electrical\n",
            "Non-Null Count  Dtype \n",
            "--------------  ----- \n",
            "1459 non-null   object\n",
            "dtypes: object(1)\n",
            "memory usage: 11.5+ KB\n"
          ]
        },
        {
          "data": {
            "text/plain": [
              "array(['SBrkr', 'FuseF', 'FuseA', 'FuseP', 'Mix', nan], dtype=object)"
            ]
          },
          "execution_count": 108,
          "metadata": {},
          "output_type": "execute_result"
        }
      ],
      "source": [
        "# Определить тип данных и уникальные значения в столбце \"Electrical\" Электрическая система\n",
        "df['Electrical'].info()\n",
        "df['Electrical'].unique()"
      ]
    },
    {
      "cell_type": "code",
      "execution_count": 109,
      "metadata": {
        "id": "BT8_-_GdKMMN"
      },
      "outputs": [],
      "source": [
        "# Заполним пустые ячейки значением \"None\"\n",
        "df['Electrical'] = df['Electrical'].fillna('None')"
      ]
    },
    {
      "cell_type": "markdown",
      "metadata": {},
      "source": [
        "### FireplaceQu"
      ]
    },
    {
      "cell_type": "code",
      "execution_count": 110,
      "metadata": {
        "colab": {
          "base_uri": "https://localhost:8080/"
        },
        "id": "lUzDgKBZuw3t",
        "outputId": "9ae37bdc-5f55-4922-8888-a14990983db9"
      },
      "outputs": [
        {
          "name": "stdout",
          "output_type": "stream",
          "text": [
            "<class 'pandas.core.series.Series'>\n",
            "RangeIndex: 1460 entries, 0 to 1459\n",
            "Series name: FireplaceQu\n",
            "Non-Null Count  Dtype \n",
            "--------------  ----- \n",
            "770 non-null    object\n",
            "dtypes: object(1)\n",
            "memory usage: 11.5+ KB\n"
          ]
        },
        {
          "data": {
            "text/plain": [
              "array([nan, 'TA', 'Gd', 'Fa', 'Ex', 'Po'], dtype=object)"
            ]
          },
          "execution_count": 110,
          "metadata": {},
          "output_type": "execute_result"
        }
      ],
      "source": [
        "# Определить тип данных и уникальные значения в столбце \"FireplaceQu\" Качество камина\n",
        "df['FireplaceQu'].info()\n",
        "df['FireplaceQu'].unique()"
      ]
    },
    {
      "cell_type": "code",
      "execution_count": null,
      "metadata": {
        "colab": {
          "base_uri": "https://localhost:8080/"
        },
        "id": "Seomak8_wHwZ",
        "outputId": "a3a49d39-9b03-434c-c104-7c1a0e339435"
      },
      "outputs": [],
      "source": [
        "# Определение не пустых значений в столбце \"FireplaceQu\" для принятия решения, какими данными заполнять пустые значения\n",
        "# df['FireplaceQu'].dropna()"
      ]
    },
    {
      "cell_type": "code",
      "execution_count": 111,
      "metadata": {
        "id": "a4v9VeYWLyfX"
      },
      "outputs": [],
      "source": [
        "# Заполним пустые ячейки значением \"No Fireplace\"\n",
        "df['FireplaceQu'] = df['FireplaceQu'].fillna('No Fireplace')"
      ]
    },
    {
      "cell_type": "markdown",
      "metadata": {},
      "source": [
        "### GarageType"
      ]
    },
    {
      "cell_type": "code",
      "execution_count": 48,
      "metadata": {
        "colab": {
          "base_uri": "https://localhost:8080/"
        },
        "id": "NHnGxK-ruw6h",
        "outputId": "a8828231-0032-4e25-a30c-ac121c01af98"
      },
      "outputs": [],
      "source": [
        "# Определение пустых значений в столбце \"GarageType\" Тип гаража\n",
        "# df['GarageType'].isnull().sum()"
      ]
    },
    {
      "cell_type": "code",
      "execution_count": 113,
      "metadata": {},
      "outputs": [
        {
          "name": "stdout",
          "output_type": "stream",
          "text": [
            "<class 'pandas.core.series.Series'>\n",
            "RangeIndex: 1460 entries, 0 to 1459\n",
            "Series name: GarageType\n",
            "Non-Null Count  Dtype \n",
            "--------------  ----- \n",
            "1379 non-null   object\n",
            "dtypes: object(1)\n",
            "memory usage: 11.5+ KB\n"
          ]
        },
        {
          "data": {
            "text/plain": [
              "array(['Attchd', 'Detchd', 'BuiltIn', 'CarPort', nan, 'Basment', '2Types'],\n",
              "      dtype=object)"
            ]
          },
          "execution_count": 113,
          "metadata": {},
          "output_type": "execute_result"
        }
      ],
      "source": [
        "# Определить тип данных и уникальные значения в столбце \"GarageType\" Тип гаража\n",
        "df['GarageType'].info()\n",
        "df['GarageType'].unique()"
      ]
    },
    {
      "cell_type": "code",
      "execution_count": 114,
      "metadata": {
        "id": "Mf6_yh8fM80h"
      },
      "outputs": [],
      "source": [
        "# Заполним пустые ячейки значением \"No Garage\"\n",
        "df['GarageType'] = df['GarageType'].fillna('No Garage')"
      ]
    },
    {
      "cell_type": "markdown",
      "metadata": {},
      "source": [
        "### GarageYrBlt"
      ]
    },
    {
      "cell_type": "code",
      "execution_count": 115,
      "metadata": {
        "colab": {
          "base_uri": "https://localhost:8080/"
        },
        "id": "cx4gNt74uw8z",
        "outputId": "b5c7d55f-c1ef-468c-a6a7-7d51b239f8f4"
      },
      "outputs": [
        {
          "name": "stdout",
          "output_type": "stream",
          "text": [
            "<class 'pandas.core.series.Series'>\n",
            "RangeIndex: 1460 entries, 0 to 1459\n",
            "Series name: GarageYrBlt\n",
            "Non-Null Count  Dtype  \n",
            "--------------  -----  \n",
            "1379 non-null   float64\n",
            "dtypes: float64(1)\n",
            "memory usage: 11.5 KB\n"
          ]
        },
        {
          "data": {
            "text/plain": [
              "array([2003., 1976., 2001., 1998., 2000., 1993., 2004., 1973., 1931.,\n",
              "       1939., 1965., 2005., 1962., 2006., 1960., 1991., 1970., 1967.,\n",
              "       1958., 1930., 2002., 1968., 2007., 2008., 1957., 1920., 1966.,\n",
              "       1959., 1995., 1954., 1953.,   nan, 1983., 1977., 1997., 1985.,\n",
              "       1963., 1981., 1964., 1999., 1935., 1990., 1945., 1987., 1989.,\n",
              "       1915., 1956., 1948., 1974., 2009., 1950., 1961., 1921., 1900.,\n",
              "       1979., 1951., 1969., 1936., 1975., 1971., 1923., 1984., 1926.,\n",
              "       1955., 1986., 1988., 1916., 1932., 1972., 1918., 1980., 1924.,\n",
              "       1996., 1940., 1949., 1994., 1910., 1978., 1982., 1992., 1925.,\n",
              "       1941., 2010., 1927., 1947., 1937., 1942., 1938., 1952., 1928.,\n",
              "       1922., 1934., 1906., 1914., 1946., 1908., 1929., 1933.])"
            ]
          },
          "execution_count": 115,
          "metadata": {},
          "output_type": "execute_result"
        }
      ],
      "source": [
        "# Определить тип данных и уникальные значения в столбце \"GarageYrBlt\" Год постройки гаража\n",
        "df['GarageYrBlt'].info()\n",
        "df['GarageYrBlt'].unique()"
      ]
    },
    {
      "cell_type": "code",
      "execution_count": 117,
      "metadata": {
        "id": "g2sBSUfvM9jq"
      },
      "outputs": [],
      "source": [
        "# Заполним пустые ячейки значением \"0\"\n",
        "df['GarageYrBlt'] = df['GarageYrBlt'].fillna(0)"
      ]
    },
    {
      "cell_type": "code",
      "execution_count": 118,
      "metadata": {},
      "outputs": [],
      "source": [
        "# Преобразуем тип данных в столбце из float в int, так как значение года должно быть натуральным числом\n",
        "df['GarageYrBlt'] = df['GarageYrBlt'].astype(int)"
      ]
    },
    {
      "cell_type": "code",
      "execution_count": 119,
      "metadata": {},
      "outputs": [
        {
          "name": "stdout",
          "output_type": "stream",
          "text": [
            "<class 'pandas.core.series.Series'>\n",
            "RangeIndex: 1460 entries, 0 to 1459\n",
            "Series name: GarageYrBlt\n",
            "Non-Null Count  Dtype\n",
            "--------------  -----\n",
            "1460 non-null   int32\n",
            "dtypes: int32(1)\n",
            "memory usage: 5.8 KB\n"
          ]
        }
      ],
      "source": [
        "df['GarageYrBlt'].info()"
      ]
    },
    {
      "cell_type": "markdown",
      "metadata": {},
      "source": [
        "### GarageFinish"
      ]
    },
    {
      "cell_type": "code",
      "execution_count": 120,
      "metadata": {
        "colab": {
          "base_uri": "https://localhost:8080/"
        },
        "id": "gqMGoJaiuw-8",
        "outputId": "7722de05-6aa3-4da4-fe4e-1be49a658b0c"
      },
      "outputs": [
        {
          "name": "stdout",
          "output_type": "stream",
          "text": [
            "<class 'pandas.core.series.Series'>\n",
            "RangeIndex: 1460 entries, 0 to 1459\n",
            "Series name: GarageFinish\n",
            "Non-Null Count  Dtype \n",
            "--------------  ----- \n",
            "1379 non-null   object\n",
            "dtypes: object(1)\n",
            "memory usage: 11.5+ KB\n"
          ]
        },
        {
          "data": {
            "text/plain": [
              "array(['RFn', 'Unf', 'Fin', nan], dtype=object)"
            ]
          },
          "execution_count": 120,
          "metadata": {},
          "output_type": "execute_result"
        }
      ],
      "source": [
        "# ООпределить тип данных и уникальные значения в столбце \"GarageFinish\" Внутренняя отделка гаража\n",
        "df['GarageFinish'].info()\n",
        "df['GarageFinish'].unique()"
      ]
    },
    {
      "cell_type": "code",
      "execution_count": 121,
      "metadata": {
        "id": "-mopuMcYM-9o"
      },
      "outputs": [],
      "source": [
        "# Заполним пустые ячейки значением \"No Garage\"\n",
        "df['GarageFinish'] = df['GarageFinish'].fillna('No Garage')"
      ]
    },
    {
      "cell_type": "markdown",
      "metadata": {},
      "source": [
        "### GarageQual"
      ]
    },
    {
      "cell_type": "code",
      "execution_count": 122,
      "metadata": {
        "colab": {
          "base_uri": "https://localhost:8080/"
        },
        "id": "veJWQ8nvuxBT",
        "outputId": "b7d8b1da-0df0-43bf-c73d-e9c78f450d83"
      },
      "outputs": [
        {
          "name": "stdout",
          "output_type": "stream",
          "text": [
            "<class 'pandas.core.series.Series'>\n",
            "RangeIndex: 1460 entries, 0 to 1459\n",
            "Series name: GarageQual\n",
            "Non-Null Count  Dtype \n",
            "--------------  ----- \n",
            "1379 non-null   object\n",
            "dtypes: object(1)\n",
            "memory usage: 11.5+ KB\n"
          ]
        },
        {
          "data": {
            "text/plain": [
              "array(['TA', 'Fa', 'Gd', nan, 'Ex', 'Po'], dtype=object)"
            ]
          },
          "execution_count": 122,
          "metadata": {},
          "output_type": "execute_result"
        }
      ],
      "source": [
        "# Определить тип данных и уникальные значения в столбце \"GarageQual\" Качество гаража\n",
        "df['GarageQual'].info()\n",
        "df['GarageQual'].unique()"
      ]
    },
    {
      "cell_type": "code",
      "execution_count": 123,
      "metadata": {
        "id": "JpL_O0sGM_rw"
      },
      "outputs": [],
      "source": [
        "# Заполним пустые ячейки значением \"No Garage\"\n",
        "df['GarageQual'] = df['GarageQual'].fillna('No Garage')"
      ]
    },
    {
      "cell_type": "markdown",
      "metadata": {},
      "source": [
        "### GarageCond"
      ]
    },
    {
      "cell_type": "code",
      "execution_count": 124,
      "metadata": {
        "colab": {
          "base_uri": "https://localhost:8080/"
        },
        "id": "zOr9cm9guxDx",
        "outputId": "17587d1d-d038-4382-e58c-6ffacb83c8e4"
      },
      "outputs": [
        {
          "name": "stdout",
          "output_type": "stream",
          "text": [
            "<class 'pandas.core.series.Series'>\n",
            "RangeIndex: 1460 entries, 0 to 1459\n",
            "Series name: GarageCond\n",
            "Non-Null Count  Dtype \n",
            "--------------  ----- \n",
            "1379 non-null   object\n",
            "dtypes: object(1)\n",
            "memory usage: 11.5+ KB\n"
          ]
        },
        {
          "data": {
            "text/plain": [
              "array(['TA', 'Fa', nan, 'Gd', 'Po', 'Ex'], dtype=object)"
            ]
          },
          "execution_count": 124,
          "metadata": {},
          "output_type": "execute_result"
        }
      ],
      "source": [
        "# Определить тип данных и уникальные значения в столбце \"GarageCond\" Состояние гаража\n",
        "df['GarageCond'].info()\n",
        "df['GarageCond'].unique()"
      ]
    },
    {
      "cell_type": "code",
      "execution_count": 125,
      "metadata": {
        "id": "8Pg0u3n5NAa5"
      },
      "outputs": [],
      "source": [
        "# Заполним пустые ячейки значением \"No Garage\"\n",
        "df['GarageCond'] = df['GarageCond'].fillna('No Garage')"
      ]
    },
    {
      "cell_type": "markdown",
      "metadata": {},
      "source": [
        "### PoolQC"
      ]
    },
    {
      "cell_type": "code",
      "execution_count": 126,
      "metadata": {
        "colab": {
          "base_uri": "https://localhost:8080/"
        },
        "id": "utTj5ZQyuxGb",
        "outputId": "c815cd59-b444-4dca-b7e0-801fde7df907"
      },
      "outputs": [
        {
          "name": "stdout",
          "output_type": "stream",
          "text": [
            "<class 'pandas.core.series.Series'>\n",
            "RangeIndex: 1460 entries, 0 to 1459\n",
            "Series name: PoolQC\n",
            "Non-Null Count  Dtype \n",
            "--------------  ----- \n",
            "7 non-null      object\n",
            "dtypes: object(1)\n",
            "memory usage: 11.5+ KB\n"
          ]
        },
        {
          "data": {
            "text/plain": [
              "array([nan, 'Ex', 'Fa', 'Gd'], dtype=object)"
            ]
          },
          "execution_count": 126,
          "metadata": {},
          "output_type": "execute_result"
        }
      ],
      "source": [
        "# Определить тип данных и уникальные значения в столбце \"PoolQC\" Качество бассейна\n",
        "df['PoolQC'].info()\n",
        "df['PoolQC'].unique()"
      ]
    },
    {
      "cell_type": "code",
      "execution_count": 127,
      "metadata": {
        "id": "69b1sDnTNBMv"
      },
      "outputs": [],
      "source": [
        "# Заполним пустые ячейки значением \"No Pool\"\n",
        "df['PoolQC'] = df['PoolQC'].fillna('No Pool')"
      ]
    },
    {
      "cell_type": "markdown",
      "metadata": {},
      "source": [
        "### Fence"
      ]
    },
    {
      "cell_type": "code",
      "execution_count": 128,
      "metadata": {
        "colab": {
          "base_uri": "https://localhost:8080/"
        },
        "id": "omxtC8WpvkdL",
        "outputId": "fca0c54c-7569-4375-de5d-abf19188d6ab"
      },
      "outputs": [
        {
          "name": "stdout",
          "output_type": "stream",
          "text": [
            "<class 'pandas.core.series.Series'>\n",
            "RangeIndex: 1460 entries, 0 to 1459\n",
            "Series name: Fence\n",
            "Non-Null Count  Dtype \n",
            "--------------  ----- \n",
            "281 non-null    object\n",
            "dtypes: object(1)\n",
            "memory usage: 11.5+ KB\n"
          ]
        },
        {
          "data": {
            "text/plain": [
              "array([nan, 'MnPrv', 'GdWo', 'GdPrv', 'MnWw'], dtype=object)"
            ]
          },
          "execution_count": 128,
          "metadata": {},
          "output_type": "execute_result"
        }
      ],
      "source": [
        "# Определить тип данных и уникальные значения в столбце \"Fence\" Качество ограждения\n",
        "df['Fence'].info()\n",
        "df['Fence'].unique()"
      ]
    },
    {
      "cell_type": "code",
      "execution_count": 129,
      "metadata": {
        "id": "dJjPBtHkNB14"
      },
      "outputs": [],
      "source": [
        "# Заполним пустые ячейки значением \"No Fence\"\n",
        "df['Fence'] = df['Fence'].fillna('No Fence')"
      ]
    },
    {
      "cell_type": "markdown",
      "metadata": {},
      "source": [
        "### MiscFeature"
      ]
    },
    {
      "cell_type": "code",
      "execution_count": 130,
      "metadata": {
        "colab": {
          "base_uri": "https://localhost:8080/"
        },
        "id": "E4PW0u02vkff",
        "outputId": "c6631c41-e3a3-412f-ad08-091ffc775cef"
      },
      "outputs": [
        {
          "name": "stdout",
          "output_type": "stream",
          "text": [
            "<class 'pandas.core.series.Series'>\n",
            "RangeIndex: 1460 entries, 0 to 1459\n",
            "Series name: MiscFeature\n",
            "Non-Null Count  Dtype \n",
            "--------------  ----- \n",
            "54 non-null     object\n",
            "dtypes: object(1)\n",
            "memory usage: 11.5+ KB\n"
          ]
        },
        {
          "data": {
            "text/plain": [
              "array([nan, 'Shed', 'Gar2', 'Othr', 'TenC'], dtype=object)"
            ]
          },
          "execution_count": 130,
          "metadata": {},
          "output_type": "execute_result"
        }
      ],
      "source": [
        "# Определить тип данных и уникальные значения в столбцее \"MiscFeature\" Разное\n",
        "df['MiscFeature'].info()\n",
        "df['MiscFeature'].unique()"
      ]
    },
    {
      "cell_type": "code",
      "execution_count": 131,
      "metadata": {
        "id": "nLOqNZrgvkiL"
      },
      "outputs": [],
      "source": [
        "# Заполним пустые ячейки значением \"No Misc\"\n",
        "df['MiscFeature'] = df['MiscFeature'].fillna('No Misc')"
      ]
    },
    {
      "cell_type": "markdown",
      "metadata": {},
      "source": [
        "### SalePrice"
      ]
    },
    {
      "cell_type": "code",
      "execution_count": 137,
      "metadata": {},
      "outputs": [
        {
          "name": "stdout",
          "output_type": "stream",
          "text": [
            "<class 'pandas.core.series.Series'>\n",
            "RangeIndex: 1460 entries, 0 to 1459\n",
            "Series name: SalePrice\n",
            "Non-Null Count  Dtype\n",
            "--------------  -----\n",
            "1460 non-null   int64\n",
            "dtypes: int64(1)\n",
            "memory usage: 11.5 KB\n"
          ]
        }
      ],
      "source": [
        "# Определить тип данных \"SalePrice\" цена\n",
        "df['SalePrice'].info()"
      ]
    },
    {
      "cell_type": "code",
      "execution_count": 138,
      "metadata": {},
      "outputs": [],
      "source": [
        "# Преобразуем тип данных в столбце из int во float , так как значение цены должно быть десятичным числом\n",
        "df['SalePrice'] = df['SalePrice'].astype(float)"
      ]
    },
    {
      "cell_type": "markdown",
      "metadata": {},
      "source": [
        "#### Выведем датасет с учетом внесенных изменений"
      ]
    },
    {
      "cell_type": "code",
      "execution_count": 140,
      "metadata": {
        "colab": {
          "base_uri": "https://localhost:8080/",
          "height": 617
        },
        "id": "GXFqJ_PPuxI0",
        "outputId": "ec3c0cab-dab9-4172-9a2a-aab08cabe2e5"
      },
      "outputs": [
        {
          "data": {
            "text/html": [
              "<div>\n",
              "<style scoped>\n",
              "    .dataframe tbody tr th:only-of-type {\n",
              "        vertical-align: middle;\n",
              "    }\n",
              "\n",
              "    .dataframe tbody tr th {\n",
              "        vertical-align: top;\n",
              "    }\n",
              "\n",
              "    .dataframe thead th {\n",
              "        text-align: right;\n",
              "    }\n",
              "</style>\n",
              "<table border=\"1\" class=\"dataframe\">\n",
              "  <thead>\n",
              "    <tr style=\"text-align: right;\">\n",
              "      <th></th>\n",
              "      <th>Id</th>\n",
              "      <th>MSSubClass</th>\n",
              "      <th>MSZoning</th>\n",
              "      <th>LotFrontage</th>\n",
              "      <th>LotArea</th>\n",
              "      <th>Street</th>\n",
              "      <th>Alley</th>\n",
              "      <th>LotShape</th>\n",
              "      <th>LandContour</th>\n",
              "      <th>Utilities</th>\n",
              "      <th>...</th>\n",
              "      <th>PoolArea</th>\n",
              "      <th>PoolQC</th>\n",
              "      <th>Fence</th>\n",
              "      <th>MiscFeature</th>\n",
              "      <th>MiscVal</th>\n",
              "      <th>MoSold</th>\n",
              "      <th>YrSold</th>\n",
              "      <th>SaleType</th>\n",
              "      <th>SaleCondition</th>\n",
              "      <th>SalePrice</th>\n",
              "    </tr>\n",
              "  </thead>\n",
              "  <tbody>\n",
              "    <tr>\n",
              "      <th>0</th>\n",
              "      <td>1</td>\n",
              "      <td>60</td>\n",
              "      <td>RL</td>\n",
              "      <td>65.0</td>\n",
              "      <td>8450</td>\n",
              "      <td>Pave</td>\n",
              "      <td>None Alley</td>\n",
              "      <td>Reg</td>\n",
              "      <td>Lvl</td>\n",
              "      <td>AllPub</td>\n",
              "      <td>...</td>\n",
              "      <td>0</td>\n",
              "      <td>No Pool</td>\n",
              "      <td>No Fence</td>\n",
              "      <td>No Misc</td>\n",
              "      <td>0</td>\n",
              "      <td>2</td>\n",
              "      <td>2008</td>\n",
              "      <td>WD</td>\n",
              "      <td>Normal</td>\n",
              "      <td>208500.0</td>\n",
              "    </tr>\n",
              "    <tr>\n",
              "      <th>1</th>\n",
              "      <td>2</td>\n",
              "      <td>20</td>\n",
              "      <td>RL</td>\n",
              "      <td>80.0</td>\n",
              "      <td>9600</td>\n",
              "      <td>Pave</td>\n",
              "      <td>None Alley</td>\n",
              "      <td>Reg</td>\n",
              "      <td>Lvl</td>\n",
              "      <td>AllPub</td>\n",
              "      <td>...</td>\n",
              "      <td>0</td>\n",
              "      <td>No Pool</td>\n",
              "      <td>No Fence</td>\n",
              "      <td>No Misc</td>\n",
              "      <td>0</td>\n",
              "      <td>5</td>\n",
              "      <td>2007</td>\n",
              "      <td>WD</td>\n",
              "      <td>Normal</td>\n",
              "      <td>181500.0</td>\n",
              "    </tr>\n",
              "    <tr>\n",
              "      <th>2</th>\n",
              "      <td>3</td>\n",
              "      <td>60</td>\n",
              "      <td>RL</td>\n",
              "      <td>68.0</td>\n",
              "      <td>11250</td>\n",
              "      <td>Pave</td>\n",
              "      <td>None Alley</td>\n",
              "      <td>IR1</td>\n",
              "      <td>Lvl</td>\n",
              "      <td>AllPub</td>\n",
              "      <td>...</td>\n",
              "      <td>0</td>\n",
              "      <td>No Pool</td>\n",
              "      <td>No Fence</td>\n",
              "      <td>No Misc</td>\n",
              "      <td>0</td>\n",
              "      <td>9</td>\n",
              "      <td>2008</td>\n",
              "      <td>WD</td>\n",
              "      <td>Normal</td>\n",
              "      <td>223500.0</td>\n",
              "    </tr>\n",
              "    <tr>\n",
              "      <th>3</th>\n",
              "      <td>4</td>\n",
              "      <td>70</td>\n",
              "      <td>RL</td>\n",
              "      <td>60.0</td>\n",
              "      <td>9550</td>\n",
              "      <td>Pave</td>\n",
              "      <td>None Alley</td>\n",
              "      <td>IR1</td>\n",
              "      <td>Lvl</td>\n",
              "      <td>AllPub</td>\n",
              "      <td>...</td>\n",
              "      <td>0</td>\n",
              "      <td>No Pool</td>\n",
              "      <td>No Fence</td>\n",
              "      <td>No Misc</td>\n",
              "      <td>0</td>\n",
              "      <td>2</td>\n",
              "      <td>2006</td>\n",
              "      <td>WD</td>\n",
              "      <td>Abnorml</td>\n",
              "      <td>140000.0</td>\n",
              "    </tr>\n",
              "    <tr>\n",
              "      <th>4</th>\n",
              "      <td>5</td>\n",
              "      <td>60</td>\n",
              "      <td>RL</td>\n",
              "      <td>84.0</td>\n",
              "      <td>14260</td>\n",
              "      <td>Pave</td>\n",
              "      <td>None Alley</td>\n",
              "      <td>IR1</td>\n",
              "      <td>Lvl</td>\n",
              "      <td>AllPub</td>\n",
              "      <td>...</td>\n",
              "      <td>0</td>\n",
              "      <td>No Pool</td>\n",
              "      <td>No Fence</td>\n",
              "      <td>No Misc</td>\n",
              "      <td>0</td>\n",
              "      <td>12</td>\n",
              "      <td>2008</td>\n",
              "      <td>WD</td>\n",
              "      <td>Normal</td>\n",
              "      <td>250000.0</td>\n",
              "    </tr>\n",
              "  </tbody>\n",
              "</table>\n",
              "<p>5 rows × 81 columns</p>\n",
              "</div>"
            ],
            "text/plain": [
              "   Id  MSSubClass MSZoning  LotFrontage  LotArea Street       Alley LotShape  \\\n",
              "0   1          60       RL         65.0     8450   Pave  None Alley      Reg   \n",
              "1   2          20       RL         80.0     9600   Pave  None Alley      Reg   \n",
              "2   3          60       RL         68.0    11250   Pave  None Alley      IR1   \n",
              "3   4          70       RL         60.0     9550   Pave  None Alley      IR1   \n",
              "4   5          60       RL         84.0    14260   Pave  None Alley      IR1   \n",
              "\n",
              "  LandContour Utilities  ... PoolArea   PoolQC     Fence MiscFeature MiscVal  \\\n",
              "0         Lvl    AllPub  ...        0  No Pool  No Fence     No Misc       0   \n",
              "1         Lvl    AllPub  ...        0  No Pool  No Fence     No Misc       0   \n",
              "2         Lvl    AllPub  ...        0  No Pool  No Fence     No Misc       0   \n",
              "3         Lvl    AllPub  ...        0  No Pool  No Fence     No Misc       0   \n",
              "4         Lvl    AllPub  ...        0  No Pool  No Fence     No Misc       0   \n",
              "\n",
              "  MoSold YrSold  SaleType  SaleCondition  SalePrice  \n",
              "0      2   2008        WD         Normal   208500.0  \n",
              "1      5   2007        WD         Normal   181500.0  \n",
              "2      9   2008        WD         Normal   223500.0  \n",
              "3      2   2006        WD        Abnorml   140000.0  \n",
              "4     12   2008        WD         Normal   250000.0  \n",
              "\n",
              "[5 rows x 81 columns]"
            ]
          },
          "execution_count": 140,
          "metadata": {},
          "output_type": "execute_result"
        }
      ],
      "source": [
        "df.head()"
      ]
    },
    {
      "cell_type": "code",
      "execution_count": 133,
      "metadata": {
        "id": "qcWBELvhSh2l"
      },
      "outputs": [],
      "source": [
        "# Удалим дубликаты\n",
        "# df.drop_duplicates(inplace=True) в данном датасете их нет, так что закомментирую строку"
      ]
    },
    {
      "cell_type": "code",
      "execution_count": 141,
      "metadata": {
        "colab": {
          "base_uri": "https://localhost:8080/"
        },
        "id": "hNWJ66gKTB5u",
        "outputId": "1afd5fe6-30e5-4b10-8425-4bdb404b55b7"
      },
      "outputs": [
        {
          "name": "stdout",
          "output_type": "stream",
          "text": [
            "<class 'pandas.core.frame.DataFrame'>\n",
            "RangeIndex: 1460 entries, 0 to 1459\n",
            "Data columns (total 81 columns):\n",
            " #   Column         Non-Null Count  Dtype  \n",
            "---  ------         --------------  -----  \n",
            " 0   Id             1460 non-null   int64  \n",
            " 1   MSSubClass     1460 non-null   int64  \n",
            " 2   MSZoning       1460 non-null   object \n",
            " 3   LotFrontage    1460 non-null   float64\n",
            " 4   LotArea        1460 non-null   int64  \n",
            " 5   Street         1460 non-null   object \n",
            " 6   Alley          1460 non-null   object \n",
            " 7   LotShape       1460 non-null   object \n",
            " 8   LandContour    1460 non-null   object \n",
            " 9   Utilities      1460 non-null   object \n",
            " 10  LotConfig      1460 non-null   object \n",
            " 11  LandSlope      1460 non-null   object \n",
            " 12  Neighborhood   1460 non-null   object \n",
            " 13  Condition1     1460 non-null   object \n",
            " 14  Condition2     1460 non-null   object \n",
            " 15  BldgType       1460 non-null   object \n",
            " 16  HouseStyle     1460 non-null   object \n",
            " 17  OverallQual    1460 non-null   int64  \n",
            " 18  OverallCond    1460 non-null   int64  \n",
            " 19  YearBuilt      1460 non-null   int64  \n",
            " 20  YearRemodAdd   1460 non-null   int64  \n",
            " 21  RoofStyle      1460 non-null   object \n",
            " 22  RoofMatl       1460 non-null   object \n",
            " 23  Exterior1st    1460 non-null   object \n",
            " 24  Exterior2nd    1460 non-null   object \n",
            " 25  MasVnrType     1460 non-null   object \n",
            " 26  MasVnrArea     1460 non-null   float64\n",
            " 27  ExterQual      1460 non-null   object \n",
            " 28  ExterCond      1460 non-null   object \n",
            " 29  Foundation     1460 non-null   object \n",
            " 30  BsmtQual       1460 non-null   object \n",
            " 31  BsmtCond       1460 non-null   object \n",
            " 32  BsmtExposure   1460 non-null   object \n",
            " 33  BsmtFinType1   1460 non-null   object \n",
            " 34  BsmtFinSF1     1460 non-null   int64  \n",
            " 35  BsmtFinType2   1460 non-null   object \n",
            " 36  BsmtFinSF2     1460 non-null   int64  \n",
            " 37  BsmtUnfSF      1460 non-null   int64  \n",
            " 38  TotalBsmtSF    1460 non-null   int64  \n",
            " 39  Heating        1460 non-null   object \n",
            " 40  HeatingQC      1460 non-null   object \n",
            " 41  CentralAir     1460 non-null   object \n",
            " 42  Electrical     1460 non-null   object \n",
            " 43  1stFlrSF       1460 non-null   int64  \n",
            " 44  2ndFlrSF       1460 non-null   int64  \n",
            " 45  LowQualFinSF   1460 non-null   int64  \n",
            " 46  GrLivArea      1460 non-null   int64  \n",
            " 47  BsmtFullBath   1460 non-null   int64  \n",
            " 48  BsmtHalfBath   1460 non-null   int64  \n",
            " 49  FullBath       1460 non-null   int64  \n",
            " 50  HalfBath       1460 non-null   int64  \n",
            " 51  BedroomAbvGr   1460 non-null   int64  \n",
            " 52  KitchenAbvGr   1460 non-null   int64  \n",
            " 53  KitchenQual    1460 non-null   object \n",
            " 54  TotRmsAbvGrd   1460 non-null   int64  \n",
            " 55  Functional     1460 non-null   object \n",
            " 56  Fireplaces     1460 non-null   int64  \n",
            " 57  FireplaceQu    1460 non-null   object \n",
            " 58  GarageType     1460 non-null   object \n",
            " 59  GarageYrBlt    1460 non-null   int32  \n",
            " 60  GarageFinish   1460 non-null   object \n",
            " 61  GarageCars     1460 non-null   int64  \n",
            " 62  GarageArea     1460 non-null   int64  \n",
            " 63  GarageQual     1460 non-null   object \n",
            " 64  GarageCond     1460 non-null   object \n",
            " 65  PavedDrive     1460 non-null   object \n",
            " 66  WoodDeckSF     1460 non-null   int64  \n",
            " 67  OpenPorchSF    1460 non-null   int64  \n",
            " 68  EnclosedPorch  1460 non-null   int64  \n",
            " 69  3SsnPorch      1460 non-null   int64  \n",
            " 70  ScreenPorch    1460 non-null   int64  \n",
            " 71  PoolArea       1460 non-null   int64  \n",
            " 72  PoolQC         1460 non-null   object \n",
            " 73  Fence          1460 non-null   object \n",
            " 74  MiscFeature    1460 non-null   object \n",
            " 75  MiscVal        1460 non-null   int64  \n",
            " 76  MoSold         1460 non-null   int64  \n",
            " 77  YrSold         1460 non-null   int64  \n",
            " 78  SaleType       1460 non-null   object \n",
            " 79  SaleCondition  1460 non-null   object \n",
            " 80  SalePrice      1460 non-null   float64\n",
            "dtypes: float64(3), int32(1), int64(34), object(43)\n",
            "memory usage: 918.3+ KB\n"
          ]
        }
      ],
      "source": [
        "df.info()"
      ]
    },
    {
      "cell_type": "code",
      "execution_count": null,
      "metadata": {},
      "outputs": [],
      "source": [
        "# Преобразование типов данных любого столбца\n",
        "# В библиотеке pandas функция \"pd.to_numeric()\" используется для преобразования объектов в числовой формат. Она преобразует объекты в числа, а все непреобразуемые значения преобразует в `NaN` (Not a Number).\n",
        "\n",
        "# df['column_name'] = pd.to_numeric(df['column_name'], errors='coerce')"
      ]
    },
    {
      "cell_type": "markdown",
      "metadata": {},
      "source": [
        "## 4. Проведите разведочный анализ данных (EDA), ответив на следующие вопросы: a. Каково распределение целевой переменной 'SalePrice'? Есть ли какие-либо выбросы? b. Исследуйте взаимосвязи между целевой переменной и другими характеристиками. Есть ли сильные корреляции? c. Исследуйте распределение и взаимосвязи других важных характеристик, таких как 'OverallQual', 'GrLivArea', 'GarageCars' и т.д. d. Визуализируйте данные, используя соответствующие графики (например, гистограммы, диаграммы рассеяния, квадратные диаграммы), чтобы получить представление о датасете."
      ]
    },
    {
      "cell_type": "markdown",
      "metadata": {},
      "source": [
        "Для рещение 4 подзадачи используем не весь датасет, а только интересующие нас столбцы"
      ]
    },
    {
      "cell_type": "code",
      "execution_count": 156,
      "metadata": {},
      "outputs": [
        {
          "data": {
            "text/html": [
              "<div>\n",
              "<style scoped>\n",
              "    .dataframe tbody tr th:only-of-type {\n",
              "        vertical-align: middle;\n",
              "    }\n",
              "\n",
              "    .dataframe tbody tr th {\n",
              "        vertical-align: top;\n",
              "    }\n",
              "\n",
              "    .dataframe thead th {\n",
              "        text-align: right;\n",
              "    }\n",
              "</style>\n",
              "<table border=\"1\" class=\"dataframe\">\n",
              "  <thead>\n",
              "    <tr style=\"text-align: right;\">\n",
              "      <th></th>\n",
              "      <th>OverallQual</th>\n",
              "      <th>GrLivArea</th>\n",
              "      <th>GarageCars</th>\n",
              "      <th>SalePrice</th>\n",
              "    </tr>\n",
              "  </thead>\n",
              "  <tbody>\n",
              "    <tr>\n",
              "      <th>0</th>\n",
              "      <td>7</td>\n",
              "      <td>1710</td>\n",
              "      <td>2</td>\n",
              "      <td>208500.0</td>\n",
              "    </tr>\n",
              "    <tr>\n",
              "      <th>1</th>\n",
              "      <td>6</td>\n",
              "      <td>1262</td>\n",
              "      <td>2</td>\n",
              "      <td>181500.0</td>\n",
              "    </tr>\n",
              "    <tr>\n",
              "      <th>2</th>\n",
              "      <td>7</td>\n",
              "      <td>1786</td>\n",
              "      <td>2</td>\n",
              "      <td>223500.0</td>\n",
              "    </tr>\n",
              "    <tr>\n",
              "      <th>3</th>\n",
              "      <td>7</td>\n",
              "      <td>1717</td>\n",
              "      <td>3</td>\n",
              "      <td>140000.0</td>\n",
              "    </tr>\n",
              "    <tr>\n",
              "      <th>4</th>\n",
              "      <td>8</td>\n",
              "      <td>2198</td>\n",
              "      <td>3</td>\n",
              "      <td>250000.0</td>\n",
              "    </tr>\n",
              "  </tbody>\n",
              "</table>\n",
              "</div>"
            ],
            "text/plain": [
              "   OverallQual  GrLivArea  GarageCars  SalePrice\n",
              "0            7       1710           2   208500.0\n",
              "1            6       1262           2   181500.0\n",
              "2            7       1786           2   223500.0\n",
              "3            7       1717           3   140000.0\n",
              "4            8       2198           3   250000.0"
            ]
          },
          "execution_count": 156,
          "metadata": {},
          "output_type": "execute_result"
        }
      ],
      "source": [
        "df1 = ['OverallQual', 'GrLivArea', 'GarageCars', 'SalePrice']\n",
        "df4 = df[df1]\n",
        "df4.head()"
      ]
    },
    {
      "cell_type": "code",
      "execution_count": 157,
      "metadata": {},
      "outputs": [
        {
          "name": "stdout",
          "output_type": "stream",
          "text": [
            "<class 'pandas.core.frame.DataFrame'>\n",
            "RangeIndex: 1460 entries, 0 to 1459\n",
            "Data columns (total 4 columns):\n",
            " #   Column       Non-Null Count  Dtype  \n",
            "---  ------       --------------  -----  \n",
            " 0   OverallQual  1460 non-null   int64  \n",
            " 1   GrLivArea    1460 non-null   int64  \n",
            " 2   GarageCars   1460 non-null   int64  \n",
            " 3   SalePrice    1460 non-null   float64\n",
            "dtypes: float64(1), int64(3)\n",
            "memory usage: 45.8 KB\n"
          ]
        }
      ],
      "source": [
        "df4.info()"
      ]
    },
    {
      "cell_type": "markdown",
      "metadata": {},
      "source": [
        "### a. Распределение целевой переменной 'SalePrice' можно посмотреть с помощью гистограммы:"
      ]
    },
    {
      "cell_type": "code",
      "execution_count": 151,
      "metadata": {},
      "outputs": [
        {
          "data": {
            "image/png": "[encoded data removed]",
            "text/plain": [
              "<Figure size 800x600 with 1 Axes>"
            ]
          },
          "metadata": {},
          "output_type": "display_data"
        }
      ],
      "source": [
        "plt.figure(figsize=(8, 6))\n",
        "sns.histplot(df4[\"SalePrice\"], kde=True)\n",
        "plt.xlabel(\"SalePrice\")\n",
        "plt.ylabel(\"Count\")\n",
        "plt.title(\"Distribution of SalePrice\")\n",
        "plt.show()"
      ]
    },
    {
      "cell_type": "markdown",
      "metadata": {},
      "source": [
        "### b. Взаимосвязи между целевой переменной и другими характеристиками можно исследовать с помощью матрицы корреляции:"
      ]
    },
    {
      "cell_type": "code",
      "execution_count": 152,
      "metadata": {},
      "outputs": [
        {
          "data": {
            "image/png": "[encoded data removed]",
            "text/plain": [
              "<Figure size 640x480 with 2 Axes>"
            ]
          },
          "metadata": {},
          "output_type": "display_data"
        }
      ],
      "source": [
        "correlation_matrix = df4.corr()\n",
        "sns.heatmap(correlation_matrix, annot=True, cmap=\"coolwarm\")\n",
        "plt.title(\"Correlation Matrix\")\n",
        "plt.show()"
      ]
    },
    {
      "cell_type": "markdown",
      "metadata": {},
      "source": [
        "#### Для наглядности можно визуализировать также scatter plot:"
      ]
    },
    {
      "cell_type": "code",
      "execution_count": 153,
      "metadata": {},
      "outputs": [
        {
          "data": {
            "image/png": "[encoded data removed]",
            "text/plain": [
              "<Figure size 640x480 with 1 Axes>"
            ]
          },
          "metadata": {},
          "output_type": "display_data"
        }
      ],
      "source": [
        "plt.scatter(df4[\"OverallQual\"], df4[\"SalePrice\"])\n",
        "plt.xlabel(\"Overall Quality\")\n",
        "plt.ylabel(\"SalePrice\")\n",
        "plt.title(\"Scatter plot of Overall Quality and SalePrice\")\n",
        "plt.show()"
      ]
    },
    {
      "cell_type": "markdown",
      "metadata": {},
      "source": [
        "### c. Распределение и взаимосвязи других важных характеристик, таких как 'OverallQual', 'GrLivArea', 'GarageCars' и т.д., можно исследовать аналогичным образом, используя соответствующие графики."
      ]
    },
    {
      "cell_type": "markdown",
      "metadata": {},
      "source": [
        "### d. Визуализация данных:"
      ]
    },
    {
      "cell_type": "code",
      "execution_count": 158,
      "metadata": {},
      "outputs": [
        {
          "data": {
            "image/png": "[encoded data removed]",
            "text/plain": [
              "<Figure size 1000x1000 with 20 Axes>"
            ]
          },
          "metadata": {},
          "output_type": "display_data"
        }
      ],
      "source": [
        "sns.pairplot(df4)\n",
        "plt.show()"
      ]
    },
    {
      "cell_type": "markdown",
      "metadata": {},
      "source": [
        "## 5. Выполните проектирование признаков путем реализации следующих преобразований: a. Работайте с категориальными переменными, применяя one-hot encoding или label encoding, в зависимости от характера переменной. b. При необходимости создайте новые характеристики, такие как общая площадь или возраст объекта недвижимости, путем объединения существующих характеристик."
      ]
    },
    {
      "cell_type": "code",
      "execution_count": 159,
      "metadata": {},
      "outputs": [
        {
          "data": {
            "text/html": [
              "<div>\n",
              "<style scoped>\n",
              "    .dataframe tbody tr th:only-of-type {\n",
              "        vertical-align: middle;\n",
              "    }\n",
              "\n",
              "    .dataframe tbody tr th {\n",
              "        vertical-align: top;\n",
              "    }\n",
              "\n",
              "    .dataframe thead th {\n",
              "        text-align: right;\n",
              "    }\n",
              "</style>\n",
              "<table border=\"1\" class=\"dataframe\">\n",
              "  <thead>\n",
              "    <tr style=\"text-align: right;\">\n",
              "      <th></th>\n",
              "      <th>Id</th>\n",
              "      <th>MSSubClass</th>\n",
              "      <th>MSZoning</th>\n",
              "      <th>LotFrontage</th>\n",
              "      <th>LotArea</th>\n",
              "      <th>Street</th>\n",
              "      <th>Alley</th>\n",
              "      <th>LotShape</th>\n",
              "      <th>LandContour</th>\n",
              "      <th>Utilities</th>\n",
              "      <th>...</th>\n",
              "      <th>PoolArea</th>\n",
              "      <th>PoolQC</th>\n",
              "      <th>Fence</th>\n",
              "      <th>MiscFeature</th>\n",
              "      <th>MiscVal</th>\n",
              "      <th>MoSold</th>\n",
              "      <th>YrSold</th>\n",
              "      <th>SaleType</th>\n",
              "      <th>SaleCondition</th>\n",
              "      <th>SalePrice</th>\n",
              "    </tr>\n",
              "  </thead>\n",
              "  <tbody>\n",
              "    <tr>\n",
              "      <th>0</th>\n",
              "      <td>1</td>\n",
              "      <td>60</td>\n",
              "      <td>RL</td>\n",
              "      <td>65.0</td>\n",
              "      <td>8450</td>\n",
              "      <td>Pave</td>\n",
              "      <td>None Alley</td>\n",
              "      <td>Reg</td>\n",
              "      <td>Lvl</td>\n",
              "      <td>AllPub</td>\n",
              "      <td>...</td>\n",
              "      <td>0</td>\n",
              "      <td>No Pool</td>\n",
              "      <td>No Fence</td>\n",
              "      <td>No Misc</td>\n",
              "      <td>0</td>\n",
              "      <td>2</td>\n",
              "      <td>2008</td>\n",
              "      <td>WD</td>\n",
              "      <td>Normal</td>\n",
              "      <td>208500.0</td>\n",
              "    </tr>\n",
              "    <tr>\n",
              "      <th>1</th>\n",
              "      <td>2</td>\n",
              "      <td>20</td>\n",
              "      <td>RL</td>\n",
              "      <td>80.0</td>\n",
              "      <td>9600</td>\n",
              "      <td>Pave</td>\n",
              "      <td>None Alley</td>\n",
              "      <td>Reg</td>\n",
              "      <td>Lvl</td>\n",
              "      <td>AllPub</td>\n",
              "      <td>...</td>\n",
              "      <td>0</td>\n",
              "      <td>No Pool</td>\n",
              "      <td>No Fence</td>\n",
              "      <td>No Misc</td>\n",
              "      <td>0</td>\n",
              "      <td>5</td>\n",
              "      <td>2007</td>\n",
              "      <td>WD</td>\n",
              "      <td>Normal</td>\n",
              "      <td>181500.0</td>\n",
              "    </tr>\n",
              "    <tr>\n",
              "      <th>2</th>\n",
              "      <td>3</td>\n",
              "      <td>60</td>\n",
              "      <td>RL</td>\n",
              "      <td>68.0</td>\n",
              "      <td>11250</td>\n",
              "      <td>Pave</td>\n",
              "      <td>None Alley</td>\n",
              "      <td>IR1</td>\n",
              "      <td>Lvl</td>\n",
              "      <td>AllPub</td>\n",
              "      <td>...</td>\n",
              "      <td>0</td>\n",
              "      <td>No Pool</td>\n",
              "      <td>No Fence</td>\n",
              "      <td>No Misc</td>\n",
              "      <td>0</td>\n",
              "      <td>9</td>\n",
              "      <td>2008</td>\n",
              "      <td>WD</td>\n",
              "      <td>Normal</td>\n",
              "      <td>223500.0</td>\n",
              "    </tr>\n",
              "    <tr>\n",
              "      <th>3</th>\n",
              "      <td>4</td>\n",
              "      <td>70</td>\n",
              "      <td>RL</td>\n",
              "      <td>60.0</td>\n",
              "      <td>9550</td>\n",
              "      <td>Pave</td>\n",
              "      <td>None Alley</td>\n",
              "      <td>IR1</td>\n",
              "      <td>Lvl</td>\n",
              "      <td>AllPub</td>\n",
              "      <td>...</td>\n",
              "      <td>0</td>\n",
              "      <td>No Pool</td>\n",
              "      <td>No Fence</td>\n",
              "      <td>No Misc</td>\n",
              "      <td>0</td>\n",
              "      <td>2</td>\n",
              "      <td>2006</td>\n",
              "      <td>WD</td>\n",
              "      <td>Abnorml</td>\n",
              "      <td>140000.0</td>\n",
              "    </tr>\n",
              "    <tr>\n",
              "      <th>4</th>\n",
              "      <td>5</td>\n",
              "      <td>60</td>\n",
              "      <td>RL</td>\n",
              "      <td>84.0</td>\n",
              "      <td>14260</td>\n",
              "      <td>Pave</td>\n",
              "      <td>None Alley</td>\n",
              "      <td>IR1</td>\n",
              "      <td>Lvl</td>\n",
              "      <td>AllPub</td>\n",
              "      <td>...</td>\n",
              "      <td>0</td>\n",
              "      <td>No Pool</td>\n",
              "      <td>No Fence</td>\n",
              "      <td>No Misc</td>\n",
              "      <td>0</td>\n",
              "      <td>12</td>\n",
              "      <td>2008</td>\n",
              "      <td>WD</td>\n",
              "      <td>Normal</td>\n",
              "      <td>250000.0</td>\n",
              "    </tr>\n",
              "  </tbody>\n",
              "</table>\n",
              "<p>5 rows × 81 columns</p>\n",
              "</div>"
            ],
            "text/plain": [
              "   Id  MSSubClass MSZoning  LotFrontage  LotArea Street       Alley LotShape  \\\n",
              "0   1          60       RL         65.0     8450   Pave  None Alley      Reg   \n",
              "1   2          20       RL         80.0     9600   Pave  None Alley      Reg   \n",
              "2   3          60       RL         68.0    11250   Pave  None Alley      IR1   \n",
              "3   4          70       RL         60.0     9550   Pave  None Alley      IR1   \n",
              "4   5          60       RL         84.0    14260   Pave  None Alley      IR1   \n",
              "\n",
              "  LandContour Utilities  ... PoolArea   PoolQC     Fence MiscFeature MiscVal  \\\n",
              "0         Lvl    AllPub  ...        0  No Pool  No Fence     No Misc       0   \n",
              "1         Lvl    AllPub  ...        0  No Pool  No Fence     No Misc       0   \n",
              "2         Lvl    AllPub  ...        0  No Pool  No Fence     No Misc       0   \n",
              "3         Lvl    AllPub  ...        0  No Pool  No Fence     No Misc       0   \n",
              "4         Lvl    AllPub  ...        0  No Pool  No Fence     No Misc       0   \n",
              "\n",
              "  MoSold YrSold  SaleType  SaleCondition  SalePrice  \n",
              "0      2   2008        WD         Normal   208500.0  \n",
              "1      5   2007        WD         Normal   181500.0  \n",
              "2      9   2008        WD         Normal   223500.0  \n",
              "3      2   2006        WD        Abnorml   140000.0  \n",
              "4     12   2008        WD         Normal   250000.0  \n",
              "\n",
              "[5 rows x 81 columns]"
            ]
          },
          "execution_count": 159,
          "metadata": {},
          "output_type": "execute_result"
        }
      ],
      "source": [
        "df.head()"
      ]
    },
    {
      "cell_type": "code",
      "execution_count": null,
      "metadata": {},
      "outputs": [],
      "source": [
        "!pip install scikit-learn"
      ]
    },
    {
      "cell_type": "code",
      "execution_count": 166,
      "metadata": {},
      "outputs": [],
      "source": [
        "# Проектирование переменных\n",
        "# One-hot encoding\n",
        "# data_encoded = pd.get_dummies(df, columns=['MSZoning'])\n",
        "\n",
        "# Label encoding\n",
        "from sklearn.preprocessing import LabelEncoder\n",
        "label_encoder = LabelEncoder()\n",
        "df['MSZoning'] = label_encoder.fit_transform(df['MSZoning'])"
      ]
    },
    {
      "cell_type": "code",
      "execution_count": 168,
      "metadata": {},
      "outputs": [
        {
          "data": {
            "text/plain": [
              "array([3, 4, 0, 1, 2])"
            ]
          },
          "execution_count": 168,
          "metadata": {},
          "output_type": "execute_result"
        }
      ],
      "source": [
        "df['MSZoning'].unique()"
      ]
    },
    {
      "cell_type": "code",
      "execution_count": 169,
      "metadata": {},
      "outputs": [
        {
          "data": {
            "text/html": [
              "<div>\n",
              "<style scoped>\n",
              "    .dataframe tbody tr th:only-of-type {\n",
              "        vertical-align: middle;\n",
              "    }\n",
              "\n",
              "    .dataframe tbody tr th {\n",
              "        vertical-align: top;\n",
              "    }\n",
              "\n",
              "    .dataframe thead th {\n",
              "        text-align: right;\n",
              "    }\n",
              "</style>\n",
              "<table border=\"1\" class=\"dataframe\">\n",
              "  <thead>\n",
              "    <tr style=\"text-align: right;\">\n",
              "      <th></th>\n",
              "      <th>Id</th>\n",
              "      <th>MSSubClass</th>\n",
              "      <th>MSZoning</th>\n",
              "      <th>LotFrontage</th>\n",
              "      <th>LotArea</th>\n",
              "      <th>Street</th>\n",
              "      <th>Alley</th>\n",
              "      <th>LotShape</th>\n",
              "      <th>LandContour</th>\n",
              "      <th>Utilities</th>\n",
              "      <th>...</th>\n",
              "      <th>PoolArea</th>\n",
              "      <th>PoolQC</th>\n",
              "      <th>Fence</th>\n",
              "      <th>MiscFeature</th>\n",
              "      <th>MiscVal</th>\n",
              "      <th>MoSold</th>\n",
              "      <th>YrSold</th>\n",
              "      <th>SaleType</th>\n",
              "      <th>SaleCondition</th>\n",
              "      <th>SalePrice</th>\n",
              "    </tr>\n",
              "  </thead>\n",
              "  <tbody>\n",
              "    <tr>\n",
              "      <th>0</th>\n",
              "      <td>1</td>\n",
              "      <td>60</td>\n",
              "      <td>3</td>\n",
              "      <td>65.0</td>\n",
              "      <td>8450</td>\n",
              "      <td>Pave</td>\n",
              "      <td>None Alley</td>\n",
              "      <td>Reg</td>\n",
              "      <td>Lvl</td>\n",
              "      <td>AllPub</td>\n",
              "      <td>...</td>\n",
              "      <td>0</td>\n",
              "      <td>No Pool</td>\n",
              "      <td>No Fence</td>\n",
              "      <td>No Misc</td>\n",
              "      <td>0</td>\n",
              "      <td>2</td>\n",
              "      <td>2008</td>\n",
              "      <td>WD</td>\n",
              "      <td>Normal</td>\n",
              "      <td>208500.0</td>\n",
              "    </tr>\n",
              "    <tr>\n",
              "      <th>1</th>\n",
              "      <td>2</td>\n",
              "      <td>20</td>\n",
              "      <td>3</td>\n",
              "      <td>80.0</td>\n",
              "      <td>9600</td>\n",
              "      <td>Pave</td>\n",
              "      <td>None Alley</td>\n",
              "      <td>Reg</td>\n",
              "      <td>Lvl</td>\n",
              "      <td>AllPub</td>\n",
              "      <td>...</td>\n",
              "      <td>0</td>\n",
              "      <td>No Pool</td>\n",
              "      <td>No Fence</td>\n",
              "      <td>No Misc</td>\n",
              "      <td>0</td>\n",
              "      <td>5</td>\n",
              "      <td>2007</td>\n",
              "      <td>WD</td>\n",
              "      <td>Normal</td>\n",
              "      <td>181500.0</td>\n",
              "    </tr>\n",
              "    <tr>\n",
              "      <th>2</th>\n",
              "      <td>3</td>\n",
              "      <td>60</td>\n",
              "      <td>3</td>\n",
              "      <td>68.0</td>\n",
              "      <td>11250</td>\n",
              "      <td>Pave</td>\n",
              "      <td>None Alley</td>\n",
              "      <td>IR1</td>\n",
              "      <td>Lvl</td>\n",
              "      <td>AllPub</td>\n",
              "      <td>...</td>\n",
              "      <td>0</td>\n",
              "      <td>No Pool</td>\n",
              "      <td>No Fence</td>\n",
              "      <td>No Misc</td>\n",
              "      <td>0</td>\n",
              "      <td>9</td>\n",
              "      <td>2008</td>\n",
              "      <td>WD</td>\n",
              "      <td>Normal</td>\n",
              "      <td>223500.0</td>\n",
              "    </tr>\n",
              "    <tr>\n",
              "      <th>3</th>\n",
              "      <td>4</td>\n",
              "      <td>70</td>\n",
              "      <td>3</td>\n",
              "      <td>60.0</td>\n",
              "      <td>9550</td>\n",
              "      <td>Pave</td>\n",
              "      <td>None Alley</td>\n",
              "      <td>IR1</td>\n",
              "      <td>Lvl</td>\n",
              "      <td>AllPub</td>\n",
              "      <td>...</td>\n",
              "      <td>0</td>\n",
              "      <td>No Pool</td>\n",
              "      <td>No Fence</td>\n",
              "      <td>No Misc</td>\n",
              "      <td>0</td>\n",
              "      <td>2</td>\n",
              "      <td>2006</td>\n",
              "      <td>WD</td>\n",
              "      <td>Abnorml</td>\n",
              "      <td>140000.0</td>\n",
              "    </tr>\n",
              "    <tr>\n",
              "      <th>4</th>\n",
              "      <td>5</td>\n",
              "      <td>60</td>\n",
              "      <td>3</td>\n",
              "      <td>84.0</td>\n",
              "      <td>14260</td>\n",
              "      <td>Pave</td>\n",
              "      <td>None Alley</td>\n",
              "      <td>IR1</td>\n",
              "      <td>Lvl</td>\n",
              "      <td>AllPub</td>\n",
              "      <td>...</td>\n",
              "      <td>0</td>\n",
              "      <td>No Pool</td>\n",
              "      <td>No Fence</td>\n",
              "      <td>No Misc</td>\n",
              "      <td>0</td>\n",
              "      <td>12</td>\n",
              "      <td>2008</td>\n",
              "      <td>WD</td>\n",
              "      <td>Normal</td>\n",
              "      <td>250000.0</td>\n",
              "    </tr>\n",
              "  </tbody>\n",
              "</table>\n",
              "<p>5 rows × 81 columns</p>\n",
              "</div>"
            ],
            "text/plain": [
              "   Id  MSSubClass  MSZoning  LotFrontage  LotArea Street       Alley LotShape  \\\n",
              "0   1          60         3         65.0     8450   Pave  None Alley      Reg   \n",
              "1   2          20         3         80.0     9600   Pave  None Alley      Reg   \n",
              "2   3          60         3         68.0    11250   Pave  None Alley      IR1   \n",
              "3   4          70         3         60.0     9550   Pave  None Alley      IR1   \n",
              "4   5          60         3         84.0    14260   Pave  None Alley      IR1   \n",
              "\n",
              "  LandContour Utilities  ... PoolArea   PoolQC     Fence MiscFeature MiscVal  \\\n",
              "0         Lvl    AllPub  ...        0  No Pool  No Fence     No Misc       0   \n",
              "1         Lvl    AllPub  ...        0  No Pool  No Fence     No Misc       0   \n",
              "2         Lvl    AllPub  ...        0  No Pool  No Fence     No Misc       0   \n",
              "3         Lvl    AllPub  ...        0  No Pool  No Fence     No Misc       0   \n",
              "4         Lvl    AllPub  ...        0  No Pool  No Fence     No Misc       0   \n",
              "\n",
              "  MoSold YrSold  SaleType  SaleCondition  SalePrice  \n",
              "0      2   2008        WD         Normal   208500.0  \n",
              "1      5   2007        WD         Normal   181500.0  \n",
              "2      9   2008        WD         Normal   223500.0  \n",
              "3      2   2006        WD        Abnorml   140000.0  \n",
              "4     12   2008        WD         Normal   250000.0  \n",
              "\n",
              "[5 rows x 81 columns]"
            ]
          },
          "execution_count": 169,
          "metadata": {},
          "output_type": "execute_result"
        }
      ],
      "source": [
        "df.head()"
      ]
    },
    {
      "cell_type": "markdown",
      "metadata": {},
      "source": [
        "## 6. Сохраните очищенный и преобразованный набор данных в новый CSV-файл под названием 'cleaned_house_prices.csv'."
      ]
    },
    {
      "cell_type": "code",
      "execution_count": 170,
      "metadata": {},
      "outputs": [],
      "source": [
        "df.to_csv('cleaned_house_prices.csv', index=False)"
      ]
    }
  ],
  "metadata": {
    "colab": {
      "provenance": []
    },
    "kernelspec": {
      "display_name": "Python 3",
      "name": "python3"
    },
    "language_info": {
      "codemirror_mode": {
        "name": "ipython",
        "version": 3
      },
      "file_extension": ".py",
      "mimetype": "text/x-python",
      "name": "python",
      "nbconvert_exporter": "python",
      "pygments_lexer": "ipython3",
      "version": "3.8.0"
    }
  },
  "nbformat": 4,
  "nbformat_minor": 0
}
